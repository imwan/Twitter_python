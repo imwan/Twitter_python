{
 "cells": [
  {
   "cell_type": "markdown",
   "metadata": {},
   "source": [
    "# Getting started \n",
    "Twitter is one of the most well known online social networks in the recent years, which is referred to as microblogging.  There is a limitation of 140 characters like an SMS for each tweet. Unlike Facebook, the Twitter network is not bidirectional(directed network) and connects don't have to be mutual. \n",
    "\n",
    "Twitter is also responsible for popularizing the use of term hashtag as a way to group conversations and allow  users to follow a particular topic. A hashtag is a single keyword preficed by a $#$ symbol, for example, #Quanta.\n",
    "\n",
    "Twitter is a potential gold mine for data miners. "
   ]
  },
  {
   "cell_type": "markdown",
   "metadata": {},
   "source": [
    "Unlike traditional internet company, Twitter offers a series of APIs [Application Programming Interfaces]( https://www.youtube.com/watch?v=B9vPoCOP7oY&index=12&list=RDUr2AQKoGbbA) to provide programmatic access to Twitter data, including reading tweets, accessing user profiles, and posting content on behalf of a user. "
   ]
  },
  {
   "cell_type": "markdown",
   "metadata": {},
   "source": [
    "To set up our project to access Twitter data, there are two preliminary steps, as follows:\n",
    "- Registering our application\n",
    "- Choosing a Twitter API client"
   ]
  },
  {
   "cell_type": "markdown",
   "metadata": {},
   "source": [
    "## Registration step\n",
    "\n",
    "Assuming that we are already logged into our Twitter account, point our browser to the application management page at http://apps.twitter.com and create a new app. "
   ]
  },
  {
   "cell_type": "markdown",
   "metadata": {},
   "source": [
    "## Search versus Stream\n"
   ]
  },
  {
   "cell_type": "markdown",
   "metadata": {},
   "source": [
    "Twitter provides more a single API.  To keep things simple, we can categorize our options into two classes: REST APIs and Streaming API:\n",
    "<img src='pic/datastream.jpg'>"
   ]
  },
  {
   "cell_type": "markdown",
   "metadata": {},
   "source": [
    "- REST APIs only allow you to go back in time. It is usually possible to go back in time up to approximately one week. \n",
    "- Streaming API looks into future. \n",
    "\n",
    "Hnece streaming API is preferred way of downloading a huge amount of tweets although it is more time consuming. "
   ]
  },
  {
   "cell_type": "markdown",
   "metadata": {},
   "source": [
    "## Let us rock"
   ]
  },
  {
   "cell_type": "markdown",
   "metadata": {},
   "source": [
    "We need to install some python modules to make connections to twitter easier. We choose tweepy which offers a wider support and actively maintained. We can install it using \n",
    "\n",
    "**pip install tweepy**\n"
   ]
  },
  {
   "cell_type": "markdown",
   "metadata": {
    "collapsed": true
   },
   "source": [
    "## Rate limits\n",
    "The twitter api limits access to applications: The twitter will return an error message rather than data we are asking for if we hit the api limits. In practice, we use "
   ]
  },
  {
   "cell_type": "code",
   "execution_count": 1,
   "metadata": {
    "collapsed": false
   },
   "outputs": [
    {
     "name": "stdout",
     "output_type": "stream",
     "text": [
      "Wait so long time\n"
     ]
    }
   ],
   "source": [
    "import time\n",
    "time.sleep(10)\n",
    "print(\"Wait so long time\")"
   ]
  },
  {
   "cell_type": "code",
   "execution_count": 10,
   "metadata": {
    "collapsed": true
   },
   "outputs": [],
   "source": [
    "access_token=\"85078098-Wk5vA2x55KiuTCEPIZRrKfS5vjbyHgejFfuB0velt\"\n",
    "access_token_secret=\"8odvKnPA7E2I4YD0vqdGL92X10IOyWNL0zbab4w7vRp7P\"\n",
    "consumer_key=\"x2p9hWKPqVg2KDyhtTAmA2aWJ\"\n",
    "consumer_secret=\"p3ltcPdNA80hIiXpCFByL2Zkq33lKlFL9yWGwOBPV5SYbPad1m\"\n",
    "code=[access_token,access_token_secret,consumer_key,consumer_secret]"
   ]
  },
  {
   "cell_type": "code",
   "execution_count": 11,
   "metadata": {
    "collapsed": false
   },
   "outputs": [],
   "source": [
    "from twitter_one.client import *  \n",
    "client=get_twitter_client(code)\n"
   ]
  },
  {
   "cell_type": "markdown",
   "metadata": {},
   "source": [
    "\"get_twitter_client()\" which is used to create a application from tweepy.API, used for many different types of interaction with Twitter. "
   ]
  },
  {
   "cell_type": "markdown",
   "metadata": {},
   "source": [
    "## Getting tweets from the timeline"
   ]
  },
  {
   "cell_type": "markdown",
   "metadata": {},
   "source": [
    "Let us first consider ample scenario : how to get the firt ten tweets of your own home timeline "
   ]
  },
  {
   "cell_type": "code",
   "execution_count": 12,
   "metadata": {
    "collapsed": false
   },
   "outputs": [
    {
     "name": "stdout",
     "output_type": "stream",
     "text": [
      "Theresa May’s speech: transcript https://t.co/PYa5yj2XRr https://t.co/zBV5bgl6rt\n",
      "Expats say these countries have the best education systems https://t.co/xIhtyRS1kI https://t.co/uvU1ZuevOt\n",
      "Top Google exec shares a simple trick he uses to relax and sleep better https://t.co/Uh6HDhbLOn\n",
      "Germany's VCs are on the hunt for software startups https://t.co/vBzrPILGV0 https://t.co/1XjrB72Wht\n",
      "Real Time #Orderflow #Trading Software Shows Order Book Manipulation/Spoofing &amp; Much More  &gt; RISK FREE TRIAL &gt;&gt;… https://t.co/oRWz1iUNZE\n",
      "BREAKING: Atlantia Weighs Abertis Takeover to Build Toll Giant https://t.co/wuirgcd9mg\n",
      "Two senior Philippines police officers tell Reuters that almost all drug-war killings are orchestrated by the polic… https://t.co/bsAhzICzYT\n",
      "Editorial: Enough excuses. Release your taxes, Mr. President https://t.co/x2AdT9MKk0 via @latimesopinion https://t.co/ugUg7bbvj2\n",
      "RT @fastFT: Goldman shares hit after trading results miss estimates https://t.co/TgAp9lGZk5\n",
      "Arkansas vows to carry out executions despite Supreme Court setbacks https://t.co/NOKDl6pJhH\n"
     ]
    }
   ],
   "source": [
    "from twitter_one.timeline import *\n",
    "printHomeLine(client, 10)"
   ]
  },
  {
   "cell_type": "code",
   "execution_count": 14,
   "metadata": {
    "collapsed": true
   },
   "outputs": [],
   "source": [
    "userTimeLine(client,'tigerwan2008')\n",
    "userTimeLine(client,'PacktPub')"
   ]
  },
  {
   "cell_type": "markdown",
   "metadata": {},
   "source": [
    "As a Twitter user, your home timeline is the screen that yousee when you log into Twitter.  We only need to print the text part of tweet. But there are other parts of a tweet we might be interested. "
   ]
  },
  {
   "cell_type": "markdown",
   "metadata": {},
   "source": [
    "Rather then just printing the text on screen, we would like to store them so that we can analyze later. "
   ]
  },
  {
   "cell_type": "markdown",
   "metadata": {},
   "source": [
    "# Network on Twitter\n",
    "- Users, their connections and interactions\n",
    "- Download a list of friends and followers\n",
    "- Measure influence and engagement\n",
    "- Analyze connections,\n",
    "- Clustering analysis\n",
    "- Dynamic maps"
   ]
  },
  {
   "cell_type": "markdown",
   "metadata": {},
   "source": [
    "[Twitter API](https://dev.twitter.com/rest/public) provides several endpoints to retrieve information about followers, friends and user profiles in general. "
   ]
  },
  {
   "cell_type": "markdown",
   "metadata": {},
   "source": [
    "- we can use endpoint users/show to get a single-user profile: given a screen name or user ID, the endpoint will retrieve the full profile for a user. \n",
    "- rate-limit, 180 requests in 15 minutes. The endpointi not suitable for batch downloads. "
   ]
  },
  {
   "cell_type": "markdown",
   "metadata": {},
   "source": [
    "- A list of followers for a given user can be retrived usingthe followers/list endpoint, implemented in  Tweepy with the API.followers() function.  \n",
    "\n",
    "- The friends/list endpoint allows retriveing the lit of friends for the given user, with the Tweepy implementation available as API.friends(). \n",
    "\n",
    "- rate limit: only 15 requersts in a 15-minute window, with each request providing up t0 20 user profiles. Totally 300 profiles every 15 minutes\n"
   ]
  },
  {
   "cell_type": "markdown",
   "metadata": {},
   "source": [
    "- workaround for this limit is based on a combination of other endpoints which are more suitable for big batches of data using followers/ids, which can return 5000 use IDs per request, but still 15 request per 15 minutes. With followers.ids endpoint, we only have the list of user IDs corresponding to the users' followers. But we do not have the complete profiles yet. \n",
    "- Then we can use user IDs as input for the users/lookup endpoint which takes 100 IDs as input. The rate limit is set to 180 per 15 minutes. which corresponds to 18000 profiles every 15 minutes. \n",
    "- Similarly, we can combine friends.ides and users/lookup endpoints. "
   ]
  },
  {
   "cell_type": "markdown",
   "metadata": {},
   "source": [
    "## The structure of a user profile"
   ]
  },
  {
   "cell_type": "markdown",
   "metadata": {},
   "source": [
    "   We can use the users/show endpoint with API.get_user()"
   ]
  },
  {
   "cell_type": "code",
   "execution_count": 5,
   "metadata": {
    "collapsed": true
   },
   "outputs": [],
   "source": [
    "from twitter_one.userprofile import *"
   ]
  },
  {
   "cell_type": "code",
   "execution_count": 14,
   "metadata": {
    "collapsed": false
   },
   "outputs": [],
   "source": [
    "#printProfile(client, screen_name=\"tigerwan2008\")"
   ]
  },
  {
   "cell_type": "markdown",
   "metadata": {},
   "source": [
    "## Dowloading your friends' and followers profiles"
   ]
  },
  {
   "cell_type": "markdown",
   "metadata": {},
   "source": [
    "### Get followers for a user"
   ]
  },
  {
   "cell_type": "code",
   "execution_count": 14,
   "metadata": {
    "collapsed": false
   },
   "outputs": [
    {
     "name": "stdout",
     "output_type": "stream",
     "text": [
      "More results available. Sleeping for 60 seconds to avoid rate limit\n",
      "More results available. Sleeping for 60 seconds to avoid rate limit\n",
      "More results available. Sleeping for 60 seconds to avoid rate limit\n"
     ]
    }
   ],
   "source": [
    "followers(client,\"PacktPub\")"
   ]
  },
  {
   "cell_type": "markdown",
   "metadata": {},
   "source": [
    "### Get friends for a given user"
   ]
  },
  {
   "cell_type": "code",
   "execution_count": 15,
   "metadata": {
    "collapsed": true
   },
   "outputs": [],
   "source": [
    "friends(client,\"PacktPub\")"
   ]
  },
  {
   "cell_type": "markdown",
   "metadata": {},
   "source": [
    "## get user's profile"
   ]
  },
  {
   "cell_type": "code",
   "execution_count": 16,
   "metadata": {
    "collapsed": true
   },
   "outputs": [],
   "source": [
    "userProfile(client,\"PacktPub\")"
   ]
  },
  {
   "cell_type": "code",
   "execution_count": 17,
   "metadata": {
    "collapsed": false
   },
   "outputs": [],
   "source": [
    "#printProfile(client,\"tigerwan2008\")"
   ]
  },
  {
   "cell_type": "markdown",
   "metadata": {
    "collapsed": true
   },
   "source": [
    "# Analyzing your network"
   ]
  },
  {
   "cell_type": "markdown",
   "metadata": {},
   "source": [
    "   <img src=\"pic/network.jpg\">"
   ]
  },
  {
   "cell_type": "markdown",
   "metadata": {},
   "source": [
    "- Who are my mutual friends?\n",
    "- Who is not following me back?\n",
    "- Whom am I not following back?"
   ]
  },
  {
   "cell_type": "code",
   "execution_count": 1,
   "metadata": {
    "collapsed": false
   },
   "outputs": [],
   "source": [
    "from twitter_one.followers_analysis import *"
   ]
  },
  {
   "cell_type": "code",
   "execution_count": 2,
   "metadata": {
    "collapsed": false
   },
   "outputs": [
    {
     "name": "stdout",
     "output_type": "stream",
     "text": [
      "----- Timing -----\n",
      "Initialize data: 2.1088249683380127\n",
      "Set-based operations: 6.368762016296387\n",
      "Total time: 8.4775869846344\n",
      "PacktPub has 14999 followers\n",
      "PacktPub has 14999 friends\n",
      "PacktPub has 14999 mutual friends\n",
      "0 friends are not following PacktPub back\n",
      "0 followers are not followed back by PacktPub\n"
     ]
    }
   ],
   "source": [
    "(followers, friends, mutual,fonotfo,frinotfol)=followers_count(\"PacktPub\")"
   ]
  },
  {
   "cell_type": "code",
   "execution_count": 3,
   "metadata": {
    "collapsed": false
   },
   "outputs": [
    {
     "name": "stdout",
     "output_type": "stream",
     "text": [
      "----- Timing -----\n",
      "Initialize data: 0.0026769638061523438\n",
      "Set-based operations: 6.9141387939453125e-06\n",
      "Total time: 0.002683877944946289\n",
      "tigerwan2008 has 5 followers\n",
      "tigerwan2008 has 5 friends\n",
      "tigerwan2008 has 5 mutual friends\n",
      "0 friends are not following tigerwan2008 back\n",
      "0 followers are not followed back by tigerwan2008\n"
     ]
    }
   ],
   "source": [
    "(followers, friends, mutual,fonotfo,frinotfol)=followers_count(\"tigerwan2008\")"
   ]
  },
  {
   "cell_type": "code",
   "execution_count": 4,
   "metadata": {
    "collapsed": false
   },
   "outputs": [
    {
     "name": "stdout",
     "output_type": "stream",
     "text": [
      "----- Timing -----\n",
      "Initialize data: 2.1054940223693848\n",
      "Set-based operations: 0.024131059646606445\n",
      "Total time: 2.129625082015991\n",
      "----- Stats -----\n",
      "PacktPub has 14999 followers\n",
      "PacktPub has 14999 friends\n",
      "PacktPub has 14999 mutual friends\n",
      "0 friends are not following PacktPub back\n",
      "0 followers are not followed back by PacktPub\n"
     ]
    }
   ],
   "source": [
    "(followers, friends, mutual,fonotfo,frinotfol)=followers_count2(\"PacktPub\")"
   ]
  },
  {
   "cell_type": "markdown",
   "metadata": {},
   "source": [
    "## Find import user- influencer"
   ]
  },
  {
   "cell_type": "markdown",
   "metadata": {},
   "source": [
    "- influencer marketing targets key individuals rather than the market as a whole "
   ]
  },
  {
   "cell_type": "markdown",
   "metadata": {},
   "source": [
    "- user engagement: assessment of the response to a particular offer, such as a product or service.  In twitter, \"retweeting\" or \"liking\" a particular tweet. "
   ]
  },
  {
   "cell_type": "markdown",
   "metadata": {},
   "source": [
    "## More followers, more influence?"
   ]
  },
  {
   "cell_type": "code",
   "execution_count": 2,
   "metadata": {
    "collapsed": false
   },
   "outputs": [],
   "source": [
    "from twitter_one.userinfluence import *\n",
    "(followers1,tweets1,favorite_count1,retweet_count1,reach1)=userReach('tigerwan2008')"
   ]
  },
  {
   "cell_type": "code",
   "execution_count": 3,
   "metadata": {
    "collapsed": false
   },
   "outputs": [],
   "source": [
    "(followers2,tweets2,favorite_count2,retweet_count2,reach2)=userReach('PacktPub')"
   ]
  },
  {
   "cell_type": "code",
   "execution_count": 4,
   "metadata": {
    "collapsed": false
   },
   "outputs": [
    {
     "name": "stdout",
     "output_type": "stream",
     "text": [
      "----- Stats tigerwan2008 -----\n",
      "5 followers\n",
      "12469 users reached by 1-degree connections\n",
      "Average number of followers for tigerwan2008's followers: 2493.8\n",
      "Favorited 4 times (0.8 per tweet, 0.8 per user)\n",
      "Retweeted 11470 times (2294.0 per tweet, 2294.0 per user)\n"
     ]
    }
   ],
   "source": [
    "influenceStat(\"tigerwan2008\", followers1,tweets1,favorite_count1,\n",
    "              retweet_count1,reach1)"
   ]
  },
  {
   "cell_type": "code",
   "execution_count": 5,
   "metadata": {
    "collapsed": false
   },
   "outputs": [
    {
     "name": "stdout",
     "output_type": "stream",
     "text": [
      "----- Stats PacktPub -----\n",
      "19913 followers\n",
      "27529705 users reached by 1-degree connections\n",
      "Average number of followers for PacktPub's followers: 1382.5\n",
      "Favorited 12095 times (0.69 per tweet, 0.61 per user)\n",
      "Retweeted 199728 times (11.41 per tweet, 10.03 per user)\n"
     ]
    }
   ],
   "source": [
    "influenceStat(\"PacktPub\", followers2,tweets2,favorite_count2,\n",
    "              retweet_count2,reach2)"
   ]
  },
  {
   "cell_type": "markdown",
   "metadata": {},
   "source": [
    "My followers are much more engaged with my content than PacktPub's. It seems that I have more influence. Is that right? \n"
   ]
  },
  {
   "cell_type": "markdown",
   "metadata": {},
   "source": [
    "# Clustering of Users/Followers "
   ]
  },
  {
   "cell_type": "markdown",
   "metadata": {},
   "source": [
    "Instead of using clustering coefficient to and component analysis, we will cluster users using [kmeans method](https://en.wikipedia.org/wiki/K-means_clustering). "
   ]
  },
  {
   "cell_type": "markdown",
   "metadata": {},
   "source": [
    "- each user's info can be represented as n-dimensional vector\n",
    "- kmeans algorithm can calculate the similarity among different users"
   ]
  },
  {
   "cell_type": "markdown",
   "metadata": {},
   "source": [
    "Next, we will cluster users using text of their description . \n",
    "In a large text corpus, some words will be very present (e.g. “the”, “a”, “is” in English) hence carrying very little meaningful information about the actual contents of the document. If we were to feed the direct count data directly to a classifier those very frequent terms would shadow the frequencies of rarer yet more interesting terms.\n",
    "In order to re-weight the count features into floating point values suitable for usage by a classifier it is very common to use the tf–idf transform.\n",
    "- Tf means term-frequency while tf–idf means term-frequency times inverse document-frequency"
   ]
  },
  {
   "cell_type": "code",
   "execution_count": 1,
   "metadata": {
    "collapsed": false
   },
   "outputs": [],
   "source": [
    "from twitter_one.clustering import *"
   ]
  },
  {
   "cell_type": "code",
   "execution_count": 2,
   "metadata": {
    "collapsed": true
   },
   "outputs": [],
   "source": [
    "filename=\"users/PacktPub\"+\"/followers.jsonl\""
   ]
  },
  {
   "cell_type": "code",
   "execution_count": 3,
   "metadata": {
    "collapsed": false
   },
   "outputs": [
    {
     "name": "stdout",
     "output_type": "stream",
     "text": [
      "Data dimensions: (14999, 8)\n",
      "---------- Cluster 0\n",
      "\n",
      "Geologist, Caver, Scientist, Professor, Nerd.\n",
      "Gadget Enthusiast.\n",
      "\n",
      "\n",
      "Freelance Application Development and Graphic Design\n",
      "\n",
      "\n",
      "\n",
      "\n",
      "---------- Cluster 1\n",
      "Presales Engineer @Infobip | Web Developer at home\n",
      "Freelance web developer and consultant. Looking to create new things.\n",
      "Docente / Investigador / Desarrollador de Tecnologías Móviles y Web\n",
      "#student, interested in enterprise web application development, trying to dig #java #world, #web #developer, influenced by #FOSS, #rotractor, #osm #mapper\n",
      "Freelance web-developer. Really likes trees.\n",
      "likes to be straight-froward, believes in god, emotional. Web development, Cars, bikes,Cooking (seldom) Passionate indian , a proud tamilian\n",
      "Am a programmer,  Web developer and love doing my job well,  proficient with Java development,  Android development.\n",
      "Web Developer in Training #6monthchallenge\n",
      "#100DaysOfCode\n",
      "PPCYOGI is India’s leading Digital Marketing Company based in Chandigarh, offering world class services in SEO, SEM, PPC, SMM, web development and Landing Page.\n",
      "In progress ... #Developpeur #Web - Veille #digital #code #html5 #css #js #wordpress #php #C++ #webdev #startup #innovation #tech #numerique #SEO #GrowthHacking\n",
      "---------- Cluster 2\n",
      "I major in software engineering. Programming(JAVA, mostly), Spring fans,,Akka fans,,,Rxjava fans.\n",
      "software engineer 🤓\n",
      "@GluonHQ co-founder. Software architect, Java and Scala enthusiast.\n",
      "Evolving, challenging, designing,pushing,leading VR,AR MR,AI application,gaming,hardware, software,usage & technology & other disruption since 1975\n",
      "A Software Engineering/Java consultant and trainer. Curious and emotional engineer, lover of wisdom.\n",
      "Software Engineer @cisco bangalore\n",
      "Computerist: Java, Android, TDD, Kotlin, Software Development, Tabs v Spaces, etc.\n",
      "B. Sc., GrDip in chemistry and software engineering student at Université Laval in Quebec city #Music #Astronomy #Chemistry #Science\n",
      "Software (Java/JEE/Android) Consultant. Interested in creating software products (Start-Ups?). Hobby game developer and Star Trek fan.\n",
      "Network & Security Engineer - Digital Security, Forensics & Ethical Hacking graduate. Views expressed are those of the Lizard People unless stated otherwise.\n",
      "---------- Cluster 3\n",
      "is a Designer & Art Director.\n",
      " Portfolio:  https://t.co/e8ijeZ30ck\n",
      "Behance: https://t.co/BcxzyWWz6l\n",
      "Instagram: https://t.co/cSS0SOAts5\n",
      "roma, 52, runner, left, https://t.co/i2etq2rlXV, beatles, ilsorpasso.\n",
      "Entusiasta Java que gosta muito de conhecer novos Frameworks e não vive sem uma boa música! https://t.co/ItizeGgh1L\n",
      "DevOps / Automation Engineer - Freelance\n",
      "\n",
      "https://t.co/5u3XVBaWb4\n",
      "IT/IS Professional | Dreamer | GM - IT @Vserv,@hellovmax ( https://t.co/SuqW1bTVuu )\n",
      "So eine Art Logcat. Von verbose bis error. Meistens debug. Android/LineageOS|Java|Minecraft|Fedora|Gitarre|Angeln|2001 https://t.co/56LMgwShsZ\n",
      ".NET #Developer (C#.NET and https://t.co/qKRmcNtLdU). Now I am developing any kind of #WindowsApplication and #WebApplication. #webdesigner #CSharpDeveloper\n",
      "Tecnología, fútbol y R&R. @OpiTrends https://t.co/jrWQJAN1sP\n",
      "Github: https://t.co/rCO7BZm6O6\n",
      "Owns @GeekedUpUK and @GamedUpUK; proper description here: https://t.co/gHlISNKSDh. Reg tweets: @stormkeeper\n",
      "---------- Cluster 4\n",
      "Students of Software Engineering #MSP2016 #NodeJs #JavaScript #Programming #SEO #Developer #ict4d\n",
      "Java Developer at Britenet\n",
      "Software Developer and Microsoft MVP Visual Studio and Development Technologies from Bologna. Opinions are my own, not Microsoft's.\n",
      "Software developer, football (soccer) aficionado\n",
      "Software developer, Ringwinner, aspiring adventurer, thinker, experimenter, barrel rider, husband, dad, son, brother, friend, Luckwearer\n",
      "Dreamer - Designer - Developer - Trainer - Photography Lover\n",
      "Google Developer Group Sardegna, JavaUserGroupSardegna,  Spring ItUG, Spring AOP Author, Gopher, father of one girl and two boys.RedHatter. My Tweets Are My Own\n",
      "*@#$ Enthusiasm *Junior Android Developer $#@* *@#$ Android Nanodegree Student @Udacity $#@*\n",
      "Android Developer\n",
      "Student. Hobbyist game developer, graphics programmer. Likes hackathons and game jams. @wontorres dev account.\n"
     ]
    }
   ],
   "source": [
    "cluster=userCluster(filename,5,with_idf=True)"
   ]
  },
  {
   "cell_type": "markdown",
   "metadata": {},
   "source": [
    "## What they talk about"
   ]
  },
  {
   "cell_type": "markdown",
   "metadata": {},
   "source": [
    "On twitter, users can publish a tweet in reply to a particular piece of content. When two or more users follow up with this process, a proper conversation can unfold.\n",
    "\n",
    "Not only users form a network. This converation can also be represented as network. Each node of the network is a tweet(uniquely identified by its ID) and each edge represents a \"reply to\" relationship, a directed acyclic graph(DAG)\n",
    "\n",
    "- indegree stands of how many tweets reply to your tweet\n",
    "- finding a path i equivalent of following a conversation. \n",
    "- networkx helps"
   ]
  },
  {
   "cell_type": "code",
   "execution_count": 4,
   "metadata": {
    "collapsed": true
   },
   "outputs": [],
   "source": [
    "import networkx as nx"
   ]
  },
  {
   "cell_type": "code",
   "execution_count": null,
   "metadata": {
    "collapsed": true
   },
   "outputs": [],
   "source": []
  }
 ],
 "metadata": {
  "hide_input": false,
  "kernelspec": {
   "display_name": "Python 3",
   "language": "python",
   "name": "python3"
  },
  "language_info": {
   "codemirror_mode": {
    "name": "ipython",
    "version": 3
   },
   "file_extension": ".py",
   "mimetype": "text/x-python",
   "name": "python",
   "nbconvert_exporter": "python",
   "pygments_lexer": "ipython3",
   "version": "3.5.2"
  },
  "latex_envs": {
   "bibliofile": "biblio.bib",
   "cite_by": "apalike",
   "current_citInitial": 1,
   "eqLabelWithNumbers": true,
   "eqNumInitial": 0
  }
 },
 "nbformat": 4,
 "nbformat_minor": 1
}
