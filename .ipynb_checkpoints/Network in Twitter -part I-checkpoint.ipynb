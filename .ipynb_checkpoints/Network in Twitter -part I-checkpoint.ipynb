{
 "cells": [
  {
   "cell_type": "markdown",
   "metadata": {
    "slideshow": {
     "slide_type": "slide"
    }
   },
   "source": [
    "# Getting started \n",
    " "
   ]
  },
  {
   "cell_type": "markdown",
   "metadata": {
    "slideshow": {
     "slide_type": "subslide"
    }
   },
   "source": [
    "Twitter is one of the most well known online social networks in the recent years, which is referred to as microblogging.  There is a limitation of 140 characters like an SMS for each tweet. Unlike Facebook, the Twitter network is not bidirectional(directed network) and connects don't have to be mutual. \n"
   ]
  },
  {
   "cell_type": "markdown",
   "metadata": {
    "slideshow": {
     "slide_type": "slide"
    }
   },
   "source": [
    "Twitter is also responsible for popularizing the use of term hashtag as a way to group conversations and allow  users to follow a particular topic. A hashtag is a single keyword preficed by a $#$ symbol, for example, #Quanta.\n",
    "\n"
   ]
  },
  {
   "cell_type": "markdown",
   "metadata": {
    "slideshow": {
     "slide_type": "subslide"
    }
   },
   "source": [
    "Twitter is a potential gold mine for data miners."
   ]
  },
  {
   "cell_type": "markdown",
   "metadata": {
    "slideshow": {
     "slide_type": "slide"
    }
   },
   "source": [
    "Unlike traditional internet company, Twitter offers a series of APIs [Application Programming Interfaces]( https://www.youtube.com/watch?v=B9vPoCOP7oY&index=12&list=RDUr2AQKoGbbA) to provide programmatic access to Twitter data, including reading tweets, accessing user profiles, and posting content on behalf of a user. "
   ]
  },
  {
   "cell_type": "markdown",
   "metadata": {
    "slideshow": {
     "slide_type": "slide"
    }
   },
   "source": [
    "To set up our project to access Twitter data, there are two preliminary steps, as follows:\n",
    "- Registering our application\n",
    "- Choosing a Twitter API client"
   ]
  },
  {
   "cell_type": "markdown",
   "metadata": {
    "slideshow": {
     "slide_type": "slide"
    }
   },
   "source": [
    "## Registration step\n",
    "\n",
    "Assuming that we are already logged into our Twitter account, point our browser to the application management page at http://apps.twitter.com and create a new app. "
   ]
  },
  {
   "cell_type": "markdown",
   "metadata": {
    "slideshow": {
     "slide_type": "slide"
    }
   },
   "source": [
    "## Search versus Stream\n"
   ]
  },
  {
   "cell_type": "markdown",
   "metadata": {
    "slideshow": {
     "slide_type": "slide"
    }
   },
   "source": [
    "Twitter provides more a single API.  To keep things simple, we can categorize our options into two classes: REST APIs and Streaming API:\n",
    "<img src='pic/datastream.jpg'>"
   ]
  },
  {
   "cell_type": "markdown",
   "metadata": {
    "slideshow": {
     "slide_type": "slide"
    }
   },
   "source": [
    "- REST APIs only allow you to go back in time. It is usually possible to go back in time up to approximately one week. \n",
    "- Streaming API looks into future. \n",
    "\n",
    "Hnece streaming API is preferred way of downloading a huge amount of tweets although it is more time consuming. "
   ]
  },
  {
   "cell_type": "markdown",
   "metadata": {
    "slideshow": {
     "slide_type": "slide"
    }
   },
   "source": [
    "## Tweepy"
   ]
  },
  {
   "cell_type": "markdown",
   "metadata": {
    "slideshow": {
     "slide_type": "slide"
    }
   },
   "source": [
    "We need to install some python modules to make connections to twitter easier. We choose tweepy which offers a wider support and actively maintained. We can install it using \n",
    "\n",
    "**pip install tweepy**\n"
   ]
  },
  {
   "cell_type": "markdown",
   "metadata": {
    "collapsed": true,
    "slideshow": {
     "slide_type": "slide"
    }
   },
   "source": [
    "## Rate limits\n",
    "The twitter api limits access to applications: The twitter will return an error message rather than data we are asking for if we hit the api limits. In practice, we use "
   ]
  },
  {
   "cell_type": "code",
   "execution_count": 5,
   "metadata": {
    "slideshow": {
     "slide_type": "slide"
    }
   },
   "outputs": [
    {
     "name": "stdout",
     "output_type": "stream",
     "text": [
      "Wait so long time\n"
     ]
    }
   ],
   "source": [
    "import time\n",
    "time.sleep(10)\n",
    "print(\"Wait so long time\")"
   ]
  },
  {
   "cell_type": "code",
   "execution_count": 4,
   "metadata": {
    "collapsed": true,
    "slideshow": {
     "slide_type": "slide"
    }
   },
   "outputs": [],
   "source": [
    "access_token='85078098-4UPxG1Ybo3zz3cvsctbSGwd6yAZrECOjYqJrTJRtN'\n",
    "access_token_secret='Rt675oqbOB4MwqiDxQ9fqmKB1DzEh8g7nlg9VolOWEJGX'\n",
    "consumer_key='mfJ9RUNzagCkb6c3KCehjui1E'\n",
    "consumer_secret='L6Lk2kvXxJ92GhDBWSLpBgkCGa5sRcG1sDYgX0no6FCayikDLA'\n",
    "code=[access_token,access_token_secret,consumer_key,consumer_secret]"
   ]
  },
  {
   "cell_type": "code",
   "execution_count": 5,
   "metadata": {
    "slideshow": {
     "slide_type": "slide"
    }
   },
   "outputs": [
    {
     "name": "stdout",
     "output_type": "stream",
     "text": [
      "<class 'tweepy.api.API'>\n"
     ]
    }
   ],
   "source": [
    "from twitter_one.client import *  \n",
    "client=get_twitter_client(code)\n",
    "print(type(client))\n"
   ]
  },
  {
   "cell_type": "markdown",
   "metadata": {
    "slideshow": {
     "slide_type": "slide"
    }
   },
   "source": [
    "## Getting tweets from the timeline"
   ]
  },
  {
   "cell_type": "markdown",
   "metadata": {
    "slideshow": {
     "slide_type": "fragment"
    }
   },
   "source": [
    "Let us first consider ample scenario : how to get the firt ten tweets of your own home timeline "
   ]
  },
  {
   "cell_type": "code",
   "execution_count": 8,
   "metadata": {
    "slideshow": {
     "slide_type": "slide"
    }
   },
   "outputs": [
    {
     "name": "stdout",
     "output_type": "stream",
     "text": [
      "Alibaba affiliate merges with payment platform, making Alipay for Singapore and more https://t.co/t7f70gBb8u\n",
      "Nine days after Palm Sunday attacks, gunmen kill policeman near ancient monastery in Sinai. https://t.co/cx1GjyLB1Z\n",
      "Here's what you need to know about China's plan to reshape global trade https://t.co/xbFuTCwVnP https://t.co/zVDYlsOSEx\n",
      "#mtbnews Thanks @FoxBusiness - Could Instagram's Revenue Really Hit $22 Billion by 2021? https://t.co/MaJiAw6Qwx\n",
      "苏联异见人士的抗争之道：讲真话 https://t.co/XY3CBLjwmH\n",
      "\n",
      "本文为《纽约时报》“红色世纪(Red Century)”系列中的一篇。在十月革命100年后，我们用这个系列探讨共产主义的历史和它对后世的影响。via @nytopinion\n",
      "Weed is \"not a factor\" in the drug war, says a Trump official https://t.co/gUTlpaLk4o https://t.co/UkXi7KvLsb\n",
      "Tesla faces threat of strike that could disrupt Model 3 production https://t.co/14lcfm5iMF via @cnbctech\n",
      "Here is what every R programmer should know\n",
      "https://t.co/aqNjcE0Vcg\n",
      "#BestPractices #Rprogramming #Quant\n",
      "\"How Princess Diana's legacy lives on in Prince Harry’s brave admission\" https://t.co/xAa3guNEWG\n",
      "For Arkansas death penalty rulings, high court is last stop https://t.co/HovkyeM7EN\n"
     ]
    }
   ],
   "source": [
    "from twitter_one.timeline import *\n",
    "printHomeLine(client, 10)"
   ]
  },
  {
   "cell_type": "code",
   "execution_count": 10,
   "metadata": {
    "slideshow": {
     "slide_type": "slide"
    }
   },
   "outputs": [],
   "source": [
    "userTimeLine(client,'tigerwan2008')\n",
    "userTimeLine(client,'PacktPub')"
   ]
  },
  {
   "cell_type": "markdown",
   "metadata": {
    "slideshow": {
     "slide_type": "slide"
    }
   },
   "source": [
    "As a Twitter user, your home timeline is the screen that yousee when you log into Twitter.  We only need to print the text part of tweet. But there are other parts of a tweet we might be interested. "
   ]
  },
  {
   "cell_type": "markdown",
   "metadata": {
    "slideshow": {
     "slide_type": "slide"
    }
   },
   "source": [
    "Rather then just printing the text on screen, we would like to store them so that we can analyze later. "
   ]
  },
  {
   "cell_type": "markdown",
   "metadata": {
    "slideshow": {
     "slide_type": "slide"
    }
   },
   "source": [
    "# Network on Twitter\n",
    "- Users, their connections and interactions\n",
    "- Download a list of friends and followers\n",
    "- Measure influence and engagement\n",
    "- Analyze connections,\n",
    "- Clustering analysis\n",
    "- Dynamic maps"
   ]
  },
  {
   "cell_type": "markdown",
   "metadata": {
    "slideshow": {
     "slide_type": "slide"
    }
   },
   "source": [
    "[Twitter API](https://dev.twitter.com/rest/public) provides several endpoints to retrieve information about followers, friends and user profiles in general. "
   ]
  },
  {
   "cell_type": "code",
   "execution_count": null,
   "metadata": {
    "collapsed": true
   },
   "outputs": [],
   "source": []
  },
  {
   "cell_type": "markdown",
   "metadata": {
    "slideshow": {
     "slide_type": "slide"
    }
   },
   "source": [
    "- we can use endpoint users/show to get a single-user profile: given a screen name or user ID, the endpoint will retrieve the full profile for a user. \n",
    "- rate-limit, 180 requests in 15 minutes. The endpointi not suitable for batch downloads. "
   ]
  },
  {
   "cell_type": "markdown",
   "metadata": {
    "slideshow": {
     "slide_type": "slide"
    }
   },
   "source": [
    "- A list of followers for a given user can be retrived usingthe followers/list endpoint, implemented in  Tweepy with the API.followers() function.  \n",
    "\n",
    "- The friends/list endpoint allows retriveing the lit of friends for the given user, with the Tweepy implementation available as API.friends(). \n",
    "\n",
    "- rate limit: only 15 requersts in a 15-minute window, with each request providing up t0 20 user profiles. Totally 300 profiles every 15 minutes\n"
   ]
  },
  {
   "cell_type": "markdown",
   "metadata": {
    "slideshow": {
     "slide_type": "slide"
    }
   },
   "source": [
    "- workaround for this limit is based on a combination of other endpoints which are more suitable for big batches of data using followers/ids, which can return 5000 use IDs per request, but still 15 request per 15 minutes. With followers.ids endpoint, we only have the list of user IDs corresponding to the users' followers. But we do not have the complete profiles yet. \n",
    "- Then we can use user IDs as input for the users/lookup endpoint which takes 100 IDs as input. The rate limit is set to 180 per 15 minutes. which corresponds to 18000 profiles every 15 minutes. \n",
    "- Similarly, we can combine friends.ides and users/lookup endpoints. "
   ]
  },
  {
   "cell_type": "markdown",
   "metadata": {
    "slideshow": {
     "slide_type": "slide"
    }
   },
   "source": [
    "## The structure of a user profile"
   ]
  },
  {
   "cell_type": "markdown",
   "metadata": {
    "slideshow": {
     "slide_type": "slide"
    }
   },
   "source": [
    "   We can use the users/show endpoint with API.get_user()"
   ]
  },
  {
   "cell_type": "code",
   "execution_count": 6,
   "metadata": {
    "collapsed": true,
    "slideshow": {
     "slide_type": "slide"
    }
   },
   "outputs": [],
   "source": [
    "from twitter_one.userprofile import *"
   ]
  },
  {
   "cell_type": "code",
   "execution_count": 12,
   "metadata": {
    "slideshow": {
     "slide_type": "slide"
    }
   },
   "outputs": [
    {
     "name": "stdout",
     "output_type": "stream",
     "text": [
      "{\n",
      "    \"has_extended_profile\": true,\n",
      "    \"profile_location\": null,\n",
      "    \"protected\": false,\n",
      "    \"lang\": \"en\",\n",
      "    \"profile_background_tile\": false,\n",
      "    \"friends_count\": 95,\n",
      "    \"default_profile_image\": false,\n",
      "    \"translator_type\": \"none\",\n",
      "    \"suspended\": false,\n",
      "    \"profile_sidebar_border_color\": \"C0DEED\",\n",
      "    \"created_at\": \"Sun Oct 25 13:16:33 +0000 2009\",\n",
      "    \"profile_use_background_image\": true,\n",
      "    \"geo_enabled\": false,\n",
      "    \"location\": \"hong kong\",\n",
      "    \"is_translator\": false,\n",
      "    \"name\": \"Tiger Wan\",\n",
      "    \"favourites_count\": 2,\n",
      "    \"id\": 85078098,\n",
      "    \"id_str\": \"85078098\",\n",
      "    \"default_profile\": true,\n",
      "    \"entities\": {\n",
      "        \"description\": {\n",
      "            \"urls\": []\n",
      "        }\n",
      "    },\n",
      "    \"profile_image_url_https\": \"https://pbs.twimg.com/profile_images/830684595976753152/Sn3WIBm-_normal.jpg\",\n",
      "    \"is_translation_enabled\": false,\n",
      "    \"statuses_count\": 5,\n",
      "    \"notifications\": false,\n",
      "    \"utc_offset\": null,\n",
      "    \"description\": \"learning and trading in high dimensional market\",\n",
      "    \"verified\": false,\n",
      "    \"screen_name\": \"tigerwan2008\",\n",
      "    \"profile_image_url\": \"http://pbs.twimg.com/profile_images/830684595976753152/Sn3WIBm-_normal.jpg\",\n",
      "    \"time_zone\": null,\n",
      "    \"profile_link_color\": \"1DA1F2\",\n",
      "    \"profile_sidebar_fill_color\": \"DDEEF6\",\n",
      "    \"profile_text_color\": \"333333\",\n",
      "    \"needs_phone_verification\": false,\n",
      "    \"follow_request_sent\": false,\n",
      "    \"profile_background_image_url\": \"http://abs.twimg.com/images/themes/theme1/bg.png\",\n",
      "    \"profile_background_image_url_https\": \"https://abs.twimg.com/images/themes/theme1/bg.png\",\n",
      "    \"status\": {\n",
      "        \"text\": \"RT @realDonaldTrump: Interview with @oreillyfactor on Fox Network - 4:00 P.M. (prior to Super Bowl). Enjoy!\",\n",
      "        \"retweeted_status\": {\n",
      "            \"text\": \"Interview with @oreillyfactor on Fox Network - 4:00 P.M. (prior to Super Bowl). Enjoy!\",\n",
      "            \"in_reply_to_user_id_str\": null,\n",
      "            \"lang\": \"en\",\n",
      "            \"truncated\": false,\n",
      "            \"retweeted\": true,\n",
      "            \"geo\": null,\n",
      "            \"place\": null,\n",
      "            \"created_at\": \"Sun Feb 05 00:34:50 +0000 2017\",\n",
      "            \"in_reply_to_status_id\": null,\n",
      "            \"retweet_count\": 11467,\n",
      "            \"in_reply_to_screen_name\": null,\n",
      "            \"id\": 828039143318024194,\n",
      "            \"id_str\": \"828039143318024194\",\n",
      "            \"entities\": {\n",
      "                \"symbols\": [],\n",
      "                \"user_mentions\": [\n",
      "                    {\n",
      "                        \"name\": \"Bill O'Reilly\",\n",
      "                        \"indices\": [\n",
      "                            15,\n",
      "                            29\n",
      "                        ],\n",
      "                        \"id\": 23970102,\n",
      "                        \"id_str\": \"23970102\",\n",
      "                        \"screen_name\": \"oreillyfactor\"\n",
      "                    }\n",
      "                ],\n",
      "                \"urls\": [],\n",
      "                \"hashtags\": []\n",
      "            },\n",
      "            \"coordinates\": null,\n",
      "            \"in_reply_to_status_id_str\": null,\n",
      "            \"source\": \"<a href=\\\"http://twitter.com/download/android\\\" rel=\\\"nofollow\\\">Twitter for Android</a>\",\n",
      "            \"favorited\": false,\n",
      "            \"is_quote_status\": false,\n",
      "            \"in_reply_to_user_id\": null,\n",
      "            \"contributors\": null,\n",
      "            \"favorite_count\": 71696\n",
      "        },\n",
      "        \"in_reply_to_user_id_str\": null,\n",
      "        \"lang\": \"en\",\n",
      "        \"truncated\": false,\n",
      "        \"retweeted\": true,\n",
      "        \"geo\": null,\n",
      "        \"place\": null,\n",
      "        \"created_at\": \"Sun Feb 05 11:13:23 +0000 2017\",\n",
      "        \"in_reply_to_status_id\": null,\n",
      "        \"retweet_count\": 11467,\n",
      "        \"in_reply_to_screen_name\": null,\n",
      "        \"id\": 828199837149515776,\n",
      "        \"id_str\": \"828199837149515776\",\n",
      "        \"entities\": {\n",
      "            \"symbols\": [],\n",
      "            \"user_mentions\": [\n",
      "                {\n",
      "                    \"name\": \"Donald J. Trump\",\n",
      "                    \"indices\": [\n",
      "                        3,\n",
      "                        19\n",
      "                    ],\n",
      "                    \"id\": 25073877,\n",
      "                    \"id_str\": \"25073877\",\n",
      "                    \"screen_name\": \"realDonaldTrump\"\n",
      "                },\n",
      "                {\n",
      "                    \"name\": \"Bill O'Reilly\",\n",
      "                    \"indices\": [\n",
      "                        36,\n",
      "                        50\n",
      "                    ],\n",
      "                    \"id\": 23970102,\n",
      "                    \"id_str\": \"23970102\",\n",
      "                    \"screen_name\": \"oreillyfactor\"\n",
      "                }\n",
      "            ],\n",
      "            \"urls\": [],\n",
      "            \"hashtags\": []\n",
      "        },\n",
      "        \"coordinates\": null,\n",
      "        \"in_reply_to_status_id_str\": null,\n",
      "        \"source\": \"<a href=\\\"http://twitter.com/download/iphone\\\" rel=\\\"nofollow\\\">Twitter for iPhone</a>\",\n",
      "        \"favorited\": false,\n",
      "        \"is_quote_status\": false,\n",
      "        \"in_reply_to_user_id\": null,\n",
      "        \"contributors\": null,\n",
      "        \"favorite_count\": 0\n",
      "    },\n",
      "    \"profile_background_color\": \"C0DEED\",\n",
      "    \"listed_count\": 0,\n",
      "    \"contributors_enabled\": false,\n",
      "    \"followers_count\": 5,\n",
      "    \"url\": null,\n",
      "    \"following\": false\n",
      "}\n"
     ]
    }
   ],
   "source": [
    "printProfile(client, screen_name=\"tigerwan2008\")"
   ]
  },
  {
   "cell_type": "markdown",
   "metadata": {},
   "source": [
    "## Dowloading your friends' and followers profiles"
   ]
  },
  {
   "cell_type": "markdown",
   "metadata": {
    "slideshow": {
     "slide_type": "slide"
    }
   },
   "source": [
    "### Get followers for a user"
   ]
  },
  {
   "cell_type": "code",
   "execution_count": 14,
   "metadata": {
    "slideshow": {
     "slide_type": "slide"
    }
   },
   "outputs": [
    {
     "name": "stdout",
     "output_type": "stream",
     "text": [
      "More results available. Sleeping for 60 seconds to avoid rate limit\n",
      "More results available. Sleeping for 60 seconds to avoid rate limit\n",
      "More results available. Sleeping for 60 seconds to avoid rate limit\n"
     ]
    }
   ],
   "source": [
    "followers(client,\"tigerwan2008\")\n",
    "followers(client,\"PacktPub\")"
   ]
  },
  {
   "cell_type": "markdown",
   "metadata": {
    "slideshow": {
     "slide_type": "slide"
    }
   },
   "source": [
    "### Get friends for a given user"
   ]
  },
  {
   "cell_type": "code",
   "execution_count": 16,
   "metadata": {
    "collapsed": true,
    "slideshow": {
     "slide_type": "slide"
    }
   },
   "outputs": [],
   "source": [
    "friends(client,\"PacktPub\")\n",
    "friends(client,\"tigerwan2008\")"
   ]
  },
  {
   "cell_type": "markdown",
   "metadata": {
    "slideshow": {
     "slide_type": "slide"
    }
   },
   "source": [
    "## get user's profile"
   ]
  },
  {
   "cell_type": "code",
   "execution_count": 17,
   "metadata": {
    "collapsed": true,
    "slideshow": {
     "slide_type": "slide"
    }
   },
   "outputs": [],
   "source": [
    "userProfile(client,\"PacktPub\")\n",
    "userProfile(client,\"tigerwan2008\")"
   ]
  },
  {
   "cell_type": "code",
   "execution_count": 17,
   "metadata": {
    "slideshow": {
     "slide_type": "slide"
    }
   },
   "outputs": [],
   "source": [
    "#printProfile(client,\"tigerwan2008\")"
   ]
  },
  {
   "cell_type": "markdown",
   "metadata": {
    "collapsed": true,
    "slideshow": {
     "slide_type": "slide"
    }
   },
   "source": [
    "## Analyzing your network"
   ]
  },
  {
   "cell_type": "markdown",
   "metadata": {
    "slideshow": {
     "slide_type": "slide"
    }
   },
   "source": [
    "   <img src=\"pic/network.jpg\">"
   ]
  },
  {
   "cell_type": "markdown",
   "metadata": {
    "slideshow": {
     "slide_type": "slide"
    }
   },
   "source": [
    "- Who are my mutual friends?\n",
    "- Who is not following me back?\n",
    "- Whom am I not following back?"
   ]
  },
  {
   "cell_type": "code",
   "execution_count": 7,
   "metadata": {
    "slideshow": {
     "slide_type": "slide"
    }
   },
   "outputs": [],
   "source": [
    "from twitter_one.followers_analysis import *"
   ]
  },
  {
   "cell_type": "code",
   "execution_count": 1,
   "metadata": {
    "slideshow": {
     "slide_type": "slide"
    }
   },
   "outputs": [
    {
     "ename": "NameError",
     "evalue": "name 'followers_count' is not defined",
     "output_type": "error",
     "traceback": [
      "\u001b[0;31m---------------------------------------------------------------------------\u001b[0m",
      "\u001b[0;31mNameError\u001b[0m                                 Traceback (most recent call last)",
      "\u001b[0;32m<ipython-input-1-e56db8f7a08a>\u001b[0m in \u001b[0;36m<module>\u001b[0;34m()\u001b[0m\n\u001b[0;32m----> 1\u001b[0;31m \u001b[0;34m(\u001b[0m\u001b[0mfollowers\u001b[0m\u001b[0;34m,\u001b[0m \u001b[0mfriends\u001b[0m\u001b[0;34m,\u001b[0m \u001b[0mmutual\u001b[0m\u001b[0;34m,\u001b[0m\u001b[0mfonotfo\u001b[0m\u001b[0;34m,\u001b[0m\u001b[0mfrinotfol\u001b[0m\u001b[0;34m)\u001b[0m\u001b[0;34m=\u001b[0m\u001b[0mfollowers_count\u001b[0m\u001b[0;34m(\u001b[0m\u001b[0;34m\"PacktPub\"\u001b[0m\u001b[0;34m)\u001b[0m\u001b[0;34m\u001b[0m\u001b[0m\n\u001b[0m",
      "\u001b[0;31mNameError\u001b[0m: name 'followers_count' is not defined"
     ]
    }
   ],
   "source": [
    "(followers, friends, mutual,fonotfo,frinotfol)=followers_count(\"PacktPub\")"
   ]
  },
  {
   "cell_type": "code",
   "execution_count": 9,
   "metadata": {},
   "outputs": [
    {
     "data": {
      "text/plain": [
       "['DevasundaramV',\n",
       " 'AuYeung2013',\n",
       " 'minimilton',\n",
       " 'thomasdkim',\n",
       " 'vk0uk',\n",
       " 'Thiago16Oli',\n",
       " 'Delbs27',\n",
       " 'aray6a',\n",
       " 'rephaelo1',\n",
       " 'nrgncr',\n",
       " 'LB12_',\n",
       " 'curyfoto',\n",
       " 'kikucijo',\n",
       " 'marcdabad',\n",
       " 'Coralogix',\n",
       " 'sHe3pY',\n",
       " 'iOrhuz',\n",
       " 'modrup',\n",
       " 'imgiacal',\n",
       " 'v4rf8r',\n",
       " 'Kazuruz_Arcadia',\n",
       " 'dtoledop93',\n",
       " 'IKSena_',\n",
       " 'digitake',\n",
       " 'MattS_Vz',\n",
       " 'Maldonator2000',\n",
       " 'asmithblog',\n",
       " 'banapple_de',\n",
       " 'johntin0804',\n",
       " 'CarlosGrohmann',\n",
       " 'tomas_ante',\n",
       " 'kn_gizmo',\n",
       " 'hut36',\n",
       " 'profmarcosforte',\n",
       " 'arturoWilliams_',\n",
       " 'perceptualtech',\n",
       " 'jrjosecarlos',\n",
       " 'devzone',\n",
       " 'MingjunD',\n",
       " 'Moroch_',\n",
       " 'mxw13',\n",
       " 'camel601',\n",
       " 'jkarttunen',\n",
       " 'LorenzoBaiguera',\n",
       " 'luzanb',\n",
       " 'vadym_dudnyk',\n",
       " '4knightsgames',\n",
       " 'RaminNasibov',\n",
       " 'mkalamalami',\n",
       " 'Iam_WillowyBoat',\n",
       " 'freelancerpoleu',\n",
       " 'Sliceart',\n",
       " 'washoooooo',\n",
       " 'Samba_4e',\n",
       " 'giulianolatini',\n",
       " 'DecampsRenan',\n",
       " 'pmarinr',\n",
       " 'Refal82',\n",
       " 'IniGresik',\n",
       " 'lilice168',\n",
       " 'SinghLions',\n",
       " 'IAli_256',\n",
       " 'SerhaniReda',\n",
       " 'norman_h',\n",
       " 'el_wababe',\n",
       " 'ezidiu',\n",
       " 'WiredInIT',\n",
       " 'RazNaut',\n",
       " 'peadatorman',\n",
       " 'Nagendra2891',\n",
       " 'jgrueneis',\n",
       " 'rdkorte',\n",
       " 'eliaspirante',\n",
       " 'espersen2',\n",
       " 'unluisco',\n",
       " 'samueleresca',\n",
       " 'taobsd',\n",
       " 'exit5700',\n",
       " 'ranjanprasad',\n",
       " 'obkalu',\n",
       " 'kyaw_Java',\n",
       " 'aarceoc',\n",
       " 'ProtelesAaron',\n",
       " 'Reohinho',\n",
       " 'SBouissa',\n",
       " 'ecasasi',\n",
       " 'BasementGeeks',\n",
       " 'Mala_Leche',\n",
       " 'Asimo_15',\n",
       " 'LennonWerawad',\n",
       " 'RajPurushoth',\n",
       " 'IngJohnGuerrero',\n",
       " 'jivel91',\n",
       " 'ig_hack',\n",
       " 'RhonyAbdullah',\n",
       " 'eryzhikov',\n",
       " 'bobtrobb',\n",
       " 'jventura_io',\n",
       " 'quwaji',\n",
       " 'scottturneruon',\n",
       " 'mmabaig18',\n",
       " 'Fernandogodoy',\n",
       " 'bloonisAR',\n",
       " 'joseluis_manriq',\n",
       " 'deepakndiwan',\n",
       " 'xBryanMarch',\n",
       " 'msucil',\n",
       " 'aag_bot',\n",
       " 'JamesCorneille',\n",
       " 'TheGameVeda',\n",
       " 'tweet_vivz',\n",
       " 'Youhana09',\n",
       " 'rhoniball',\n",
       " 'ozkan_sari',\n",
       " 'SandrinePerrin7',\n",
       " 'AnemosNaftilos',\n",
       " 'kaldiroglu',\n",
       " 'iyambay',\n",
       " 'aMRAC',\n",
       " 'damunozl',\n",
       " 'PetarRepic',\n",
       " 'HusManAly',\n",
       " 'vivek_bangalore',\n",
       " 'stefthoen',\n",
       " 'aron123123',\n",
       " 'rdwivedi14',\n",
       " 'psss_techedge',\n",
       " 'sindinerono',\n",
       " 'RaadAlshahry',\n",
       " 'kenotaps',\n",
       " 'desmax74',\n",
       " 'lucaguada',\n",
       " 'niiotukobla',\n",
       " 'milliesdadrules',\n",
       " 'playstdp',\n",
       " 'juasiepo',\n",
       " 'Toxo77',\n",
       " 'sulabh1987',\n",
       " 'MarcusSamerson',\n",
       " 'sadiquea',\n",
       " 'kushykUM',\n",
       " 'TepyThai',\n",
       " 'Hermlon',\n",
       " 'm_u_suprunov',\n",
       " 'kokodrigoPerez',\n",
       " 'JustRainDrop',\n",
       " 'jaymoid',\n",
       " 'rid1_ali',\n",
       " 'hepin1989',\n",
       " 'gayathc',\n",
       " 'rockdevper',\n",
       " 'herbertc0416',\n",
       " 'Adolfo_pH',\n",
       " 'elektroo_br',\n",
       " '2_shashank',\n",
       " 'AbheeRob',\n",
       " 'andreche2',\n",
       " 'balajispiderman',\n",
       " 'sreenichelikam',\n",
       " 'DavidWalker75',\n",
       " 'barbei1204',\n",
       " 'marumaro',\n",
       " 'adesm9',\n",
       " 'lucky_lg',\n",
       " 'Jazb',\n",
       " 'Fitz_Thackeray',\n",
       " 'Jarizapo',\n",
       " 'jjmajava',\n",
       " 'KamilT',\n",
       " 'liaroc',\n",
       " 'JishF',\n",
       " 'njoroge_sagana',\n",
       " 'Shimaz_SA',\n",
       " 'd3v0p2',\n",
       " 'vitorwy',\n",
       " 'KamrulTheCoder',\n",
       " 'Tierohm',\n",
       " 'claimdotred',\n",
       " 'soowieTB',\n",
       " 'shinta_kun',\n",
       " 'arichduvet',\n",
       " 'anheurystics',\n",
       " 'zany_chang',\n",
       " 'IgnoreWarnings',\n",
       " 'anno1970',\n",
       " 'bcamargo75',\n",
       " 'goldrak',\n",
       " 'MasakotoUESUGI',\n",
       " 'Blaxus',\n",
       " 'EzraYong',\n",
       " 'GoodReactions',\n",
       " 'HenryHoffman',\n",
       " 'DomDumont',\n",
       " 'kalanamith',\n",
       " 'StormkeeperGU',\n",
       " 'SophiaViklund',\n",
       " 'X_c0d3z',\n",
       " 'harishkgarg',\n",
       " 'playmorefun',\n",
       " 'lvfx93',\n",
       " 'Omicron666_live',\n",
       " 'lsuweick',\n",
       " 'marcio_costa79',\n",
       " 'omaros__',\n",
       " 'OriveeSinner',\n",
       " 'DeepLearningSV',\n",
       " 'hejfaisal',\n",
       " 'infowaropcenter',\n",
       " 'KKulma',\n",
       " 'lozano1712',\n",
       " 'regalinterloper',\n",
       " 'ibashkim',\n",
       " 'exmune',\n",
       " 'akhbar_almosul',\n",
       " 'arthur0liveira',\n",
       " 'gebs_21',\n",
       " 'PappZol27108584',\n",
       " 'jimcollins',\n",
       " 'JorgeElfo',\n",
       " 'rgreening',\n",
       " '_ldeassis_',\n",
       " '_ellya_',\n",
       " 'navodit8750',\n",
       " 'IpuVasant',\n",
       " 'leonardliuz',\n",
       " 'MianRizwan444',\n",
       " 'iyub',\n",
       " 'massmanidec3',\n",
       " 'titaclone',\n",
       " 'chelacc',\n",
       " 'aduadetomilola',\n",
       " 'BlutzuckerCoach',\n",
       " 'DrMcAbraham',\n",
       " 'lrodriguezpupo',\n",
       " 'rsmota',\n",
       " 'czayas',\n",
       " 'edgar_f',\n",
       " 'gabby4hi',\n",
       " 'NiranjanAgaram',\n",
       " 'tangdelima',\n",
       " 'monique_baril',\n",
       " 'markdueck',\n",
       " 'otromisantropo',\n",
       " 'schumichou',\n",
       " 'Digame_Mike',\n",
       " 'hiro__s',\n",
       " 'kulkarni2u',\n",
       " 'baunax',\n",
       " 'OriolMiroToran',\n",
       " 'soniathompson1',\n",
       " 'pasimoes',\n",
       " 'julianobringer',\n",
       " 'LeXavTwit',\n",
       " 'mmeli',\n",
       " 'Voovarb',\n",
       " 'GanovenEde',\n",
       " 'misterbreen',\n",
       " 'girishkkumar',\n",
       " 'reitermayer',\n",
       " 'MiliNenad',\n",
       " 'jjselvam',\n",
       " 'abhirajurkar11',\n",
       " 'SteelDove',\n",
       " 'marcelothomaz',\n",
       " 'rahul3',\n",
       " 'ak4',\n",
       " 'stevethwaites',\n",
       " 'NavinThomsy',\n",
       " 'l0risst',\n",
       " 'WangHsingMin',\n",
       " 'mobin_tnh',\n",
       " 'SoftwareJames',\n",
       " 'zimingtao',\n",
       " 'lunix00',\n",
       " 'drock23007',\n",
       " 'icysharp',\n",
       " 'linuxmen',\n",
       " 'MobiiliMika',\n",
       " 'samurairodeo',\n",
       " 'Cheapebooks4les',\n",
       " 'ppcyogi',\n",
       " 'mcguirl',\n",
       " 'gawbul',\n",
       " 'geirth',\n",
       " 'astorzm',\n",
       " 'hq_slavo',\n",
       " 'Twizwald',\n",
       " 'MRVDM12',\n",
       " 'justsitthere',\n",
       " 'dyiwu',\n",
       " 'jutgreen',\n",
       " 'krystiansliwa',\n",
       " 'twisnia',\n",
       " 'Chalky_White41',\n",
       " 'RajePranit',\n",
       " 'tamaas_hu',\n",
       " 'jes_aguilar',\n",
       " 'g2idev',\n",
       " 'GarrickHolton',\n",
       " 'PatrickYatesy',\n",
       " 'stevenpaloalto',\n",
       " 'NEORSP',\n",
       " 'DmitryDonetsk',\n",
       " 'diomafant',\n",
       " 'MuchaQwdqwd',\n",
       " 'khongld',\n",
       " '_admarcel',\n",
       " 'app103',\n",
       " 'louislhansen',\n",
       " '4tronix_uk',\n",
       " 'fwmo',\n",
       " 'jazzthedog',\n",
       " 'riaz_001',\n",
       " 'guilhermimf',\n",
       " 'blyzer',\n",
       " 'alan_cadore',\n",
       " 'montrikam',\n",
       " 'SambitBubu',\n",
       " 'numanyilmaz61',\n",
       " 'n_1ksa',\n",
       " 'remotejo',\n",
       " 'StArunas',\n",
       " 'techsysuk',\n",
       " 'jeffvoskamp',\n",
       " 'briancupps',\n",
       " '111r11v11n',\n",
       " '_Toodee_',\n",
       " 'AbhishekXamarin',\n",
       " 'p_tiago',\n",
       " 'joserochabh',\n",
       " 'tanj666',\n",
       " 'marcocrem',\n",
       " 'ifordh',\n",
       " 'chapi13',\n",
       " 'JoshNmeMashburn',\n",
       " 'PacktExperts',\n",
       " 'OlggaMontero',\n",
       " 'drsebpa',\n",
       " 'sandwichiip',\n",
       " 'AndreasMandel',\n",
       " 'BenDjo',\n",
       " 'ivogeorg',\n",
       " 'wrajess',\n",
       " 'sami_kirves',\n",
       " 'AlekseiAQ',\n",
       " 'gowrishg',\n",
       " 'sriramnyc',\n",
       " 'crangel_tweet',\n",
       " 'crisabn',\n",
       " 'Hans_Lawalata',\n",
       " 'myAlterX',\n",
       " 'emidiobianco',\n",
       " 'vitorn1t',\n",
       " 'DilTown',\n",
       " 'sylhac76',\n",
       " 'babe_tech',\n",
       " 'theburakcinar',\n",
       " 'chickenribsnlp',\n",
       " 'JoelAndHowe',\n",
       " 'ofc587a87',\n",
       " 'PeiranKao',\n",
       " 'cesargtzyanez',\n",
       " 'tinymwriter',\n",
       " 'CraigLennon6',\n",
       " 'smith_ca',\n",
       " 'EmanueleJar',\n",
       " 'LearnNetSec',\n",
       " 'dannytruong8',\n",
       " 'josephumeh411',\n",
       " 'kadirkeskin5657',\n",
       " 'bojan_vas',\n",
       " 'froZenight',\n",
       " 'rkvsraman',\n",
       " 'DrMarkDunning',\n",
       " 'MunaAyzah',\n",
       " 'Gabr_Ibrahim',\n",
       " 'Dehroju_A',\n",
       " 'udoyen',\n",
       " 'cruseakshay',\n",
       " 'lzsofthh',\n",
       " 'hussarx',\n",
       " 'grosshochian',\n",
       " 'steveheistand',\n",
       " 'gncoelho',\n",
       " 'ryanroat',\n",
       " 'VdeVazquez',\n",
       " 'istruble',\n",
       " '0x1983',\n",
       " 'beliefs22',\n",
       " 'WesleyTech',\n",
       " 'albertorugnone',\n",
       " 'BenoitMontuelle',\n",
       " '007GoforIT',\n",
       " 'jlprietopriego',\n",
       " 'NAttilaKovacs',\n",
       " 'capcan',\n",
       " 'ryansmbsmartit',\n",
       " 'tvccapital',\n",
       " 'sharena_akers',\n",
       " 'Tookabri',\n",
       " 'TheCodeAlien',\n",
       " 'Research_Helper',\n",
       " 'MaestroKRPG',\n",
       " 'mikegonzalez2k',\n",
       " 'Ibrahimd8',\n",
       " 'cwlu1987',\n",
       " 'ironman28_',\n",
       " 'san2beerelli',\n",
       " 'otissv',\n",
       " '_AntonBaranov',\n",
       " 'mr_ubik',\n",
       " 'pkpk1234',\n",
       " 'JCWRC',\n",
       " 'wojtinio',\n",
       " 'AnimaKGameDev',\n",
       " 'kevthegoodguy',\n",
       " 'glauber_shibata',\n",
       " 'colito',\n",
       " 'alres',\n",
       " 'vrexzcuz3n3',\n",
       " 'jarek__s',\n",
       " 'boywiz74',\n",
       " 'Lalitbio',\n",
       " 'Had_CB',\n",
       " 'ThorO_o',\n",
       " 'botherchou',\n",
       " 'AyseSimgeOzger',\n",
       " 'giuseppefusco',\n",
       " 'aviontweeter',\n",
       " 'j8feng',\n",
       " 'painttw',\n",
       " 'jpmieville',\n",
       " 'burownrice',\n",
       " 'void_yuniyuni',\n",
       " 'AsrErl',\n",
       " 'JxSylar',\n",
       " 'jorlugaqui',\n",
       " 'LukeClasper',\n",
       " 'mastro35',\n",
       " 'jnoonan33',\n",
       " 'sbcjulio',\n",
       " 'ojtoro',\n",
       " 'marco_0497',\n",
       " 'joymajanil',\n",
       " 'SnappiTeam',\n",
       " 'georgemoura',\n",
       " 'Brentley',\n",
       " 'marianofaraco',\n",
       " 'AriFrello',\n",
       " 'leticiavna',\n",
       " 'cogscinl',\n",
       " '1197285182_yu',\n",
       " 'MissRedddd',\n",
       " 'costaep',\n",
       " 'KranthiKumar009',\n",
       " 'elielsousa',\n",
       " 'adamgturnbull',\n",
       " 'S_Mouska',\n",
       " 'kirai680326',\n",
       " 'Studio27devs',\n",
       " 'MikrokontrolerT',\n",
       " 'rith261',\n",
       " 'reloadbrazil',\n",
       " 'jonfulk',\n",
       " 'mao_fermino',\n",
       " 'ecs_u2',\n",
       " 'asdruvalmalla',\n",
       " 'mamadBadiane',\n",
       " 'fomoruto',\n",
       " 'ahidaloz',\n",
       " 'saturFlamejante',\n",
       " 'starrysl',\n",
       " 'kartvas',\n",
       " 'fhendraSto',\n",
       " 'rswadi',\n",
       " 'tiwari_22',\n",
       " 'SkywindowsSky',\n",
       " 'pradeepkandi',\n",
       " 'tom_schwaller',\n",
       " 'iOSDevLog',\n",
       " 'chjimenezr',\n",
       " 't62q7_aa',\n",
       " 'anciach',\n",
       " 'dazzascott',\n",
       " 'philou3',\n",
       " 'AleksanderPohl',\n",
       " 'emre_turgutt',\n",
       " 'krabat326',\n",
       " 'lamteiwahlang',\n",
       " 'dhuri_alok',\n",
       " 'migandgon',\n",
       " 'FilthX',\n",
       " 'woaksie',\n",
       " 'ElTrapoDelOcho',\n",
       " 'neo79881423',\n",
       " 'iAshishK',\n",
       " 'Vincent_Peng',\n",
       " 'fluquid_ds',\n",
       " 'jonkezhang',\n",
       " 'empty_is_empty',\n",
       " 'vchzls',\n",
       " 'probasix',\n",
       " 'Fathan_Rohman',\n",
       " 'hectorh30',\n",
       " 'YitzhakAndrade',\n",
       " 'coolsvap',\n",
       " 'john_hammerly',\n",
       " 'Fer_2304',\n",
       " '_javallejos_',\n",
       " 'riessmi',\n",
       " 'jasonchadwell',\n",
       " 'AEisenhaber',\n",
       " 'imaginationapps',\n",
       " 'LoveASurprise',\n",
       " 'GISmountains',\n",
       " 'Sehar_Un_Nisa',\n",
       " 'martinBrilon',\n",
       " '0800nacho',\n",
       " 'antonio_marc',\n",
       " 'helroystor',\n",
       " 'modernell_py',\n",
       " 'SureshBa2013',\n",
       " 'rogerioAnderson',\n",
       " 'RadiantJeral',\n",
       " 'zcoldplayer',\n",
       " 'foreswearer',\n",
       " 'oldhat2',\n",
       " 'rohitagar0107',\n",
       " 'MohdAhmadkhan05',\n",
       " 'ben8432',\n",
       " 'muhammedali1920',\n",
       " 'L_Monalissa',\n",
       " 'ubertechgeek',\n",
       " 'publicdoename',\n",
       " 'code_motivation',\n",
       " 'clarion',\n",
       " 'Trixnfx21',\n",
       " 'epodwyer',\n",
       " 'Jaffo075',\n",
       " 'bigklata',\n",
       " 'nagarakesh4',\n",
       " 'jasonzhouu',\n",
       " 'dawitge59563372',\n",
       " 'LTi_HU',\n",
       " 'denverang',\n",
       " 'muntaha1858',\n",
       " 'dani_r2006',\n",
       " 'i_zinch',\n",
       " 'bigdan886',\n",
       " 'coders_vzla',\n",
       " 'olegueret',\n",
       " 'DigitalCafeIt',\n",
       " 'T_C',\n",
       " 'KrystianLew',\n",
       " 'mtukiainen',\n",
       " 'enuwipe',\n",
       " 'gprincelin11',\n",
       " 'nemesis747',\n",
       " 'w9r4b',\n",
       " 'csking119',\n",
       " 'PascGE',\n",
       " 'MadameCezar',\n",
       " 'sirawit_su',\n",
       " 'asnazevedo',\n",
       " 'CacheForofor',\n",
       " 'vzeimer',\n",
       " 'FGHBergius',\n",
       " 'als_link',\n",
       " 'kuczmil',\n",
       " 'AnthonySpinks2',\n",
       " 'aryannedc',\n",
       " 'kexedo',\n",
       " 'besomba',\n",
       " 'wesleyegberto',\n",
       " 'jalvin477',\n",
       " 'LinuxandYarn',\n",
       " 'IndieGameDevBot',\n",
       " 'simasj',\n",
       " 'fizzlebix',\n",
       " 'markjx01',\n",
       " 'yangtianrui',\n",
       " 'danibenitw',\n",
       " 'nasipsizturkmen',\n",
       " 'OscarFryyy',\n",
       " 'parth_sevak',\n",
       " 'editalo',\n",
       " 'shopliftr',\n",
       " 'War10cks',\n",
       " 'weskimmo',\n",
       " 'jakuboja',\n",
       " 'hdoliveiha',\n",
       " 'harshalpatel791',\n",
       " 'hmkum_',\n",
       " 'maxhuguenin',\n",
       " 'get_njoshi',\n",
       " 'jwthemeltd',\n",
       " 'doutornetgui',\n",
       " 'naimusb',\n",
       " 'alrehali',\n",
       " 'talwar_vineet',\n",
       " 'tgbinh',\n",
       " 'GARA_PM',\n",
       " 'N1t1nA',\n",
       " 'manojjsm',\n",
       " 'chrisolsen',\n",
       " 'Xoke',\n",
       " 'jessefmoore',\n",
       " 'warrenwade',\n",
       " 'Nicolosus',\n",
       " 'giorgiobuffa',\n",
       " 'kitanorz',\n",
       " 'NateGye',\n",
       " 'andyinthecloud',\n",
       " 'GBlancafort',\n",
       " 'nkroeger',\n",
       " 'weiyisheng91',\n",
       " 'neojjoc007',\n",
       " 'DolceV1ta',\n",
       " 'Feliks_Raube',\n",
       " 'Boomtown',\n",
       " 'GORUZ_',\n",
       " 'geedou',\n",
       " 'salehal92192632',\n",
       " 'cworsley',\n",
       " 'SteveAWCooper',\n",
       " 'leonardomrivald',\n",
       " 'joecollette',\n",
       " 'silvagiovani',\n",
       " 'GlennCameronjr',\n",
       " 'PhillipWylie',\n",
       " 'lvnam96',\n",
       " 'ChrisHoopes',\n",
       " 'keldnner',\n",
       " 'astaktop',\n",
       " 'gflopes22',\n",
       " 'djmyerslaw',\n",
       " 'scanepa',\n",
       " 'ahadul70',\n",
       " 'djobst',\n",
       " 'xuecli',\n",
       " 'OlivierAugsbur2',\n",
       " 'TwoSim',\n",
       " 'cjundang',\n",
       " 'cahyolistyanto',\n",
       " 'ashburnere_',\n",
       " 'driepinter_cdn',\n",
       " 'BoostMagento',\n",
       " 'devRinae',\n",
       " 'danieloct27',\n",
       " 'thorpmann',\n",
       " 'NecromanderMX',\n",
       " 'riccardoaffo',\n",
       " 'brentroos',\n",
       " 'imdac',\n",
       " 'SpiesInOrbit',\n",
       " 'filmuz',\n",
       " 'Kern_fm',\n",
       " 'EsJavi_Suarez',\n",
       " 'thetolanater5',\n",
       " 'SHAHDHAWAL',\n",
       " 'nuhil',\n",
       " 'm3ss0r3m1',\n",
       " 'animalj7',\n",
       " 'EverySet',\n",
       " 'SimonMCox',\n",
       " 'chri55c',\n",
       " 'anay_karnik',\n",
       " 'NKarthicKannan',\n",
       " 'Nexusfelix',\n",
       " 'XGolokaX',\n",
       " 'seanbreeden',\n",
       " 'garethsciarrone',\n",
       " 'Kalinowska_K',\n",
       " 'pvkksgp',\n",
       " 'Challa_Madan',\n",
       " 'Spurlos89',\n",
       " 'johandekruijf',\n",
       " 'alligatorio',\n",
       " 'dansmull',\n",
       " 'wagento',\n",
       " 'ekunia_',\n",
       " 'ajmaxwello',\n",
       " 'masmrlar',\n",
       " 'thefocusgroupuk',\n",
       " 'bernyodf',\n",
       " 'ThePerna',\n",
       " 'CrfrogPat',\n",
       " 'badzman1004',\n",
       " 'douglasandrade',\n",
       " 'Coco107101',\n",
       " '_maldrax',\n",
       " 'olgunaydinn',\n",
       " 'passocabr',\n",
       " 'raf_fry',\n",
       " 'Armastronics',\n",
       " 'NicoF90_',\n",
       " '__ara_',\n",
       " 'pyprog',\n",
       " 'saiful1st',\n",
       " 'm2n037',\n",
       " 'wogsland',\n",
       " '_8t89',\n",
       " 'hopsiu',\n",
       " 'gazibisat',\n",
       " 'tstruczynski',\n",
       " 'LandonMcBride11',\n",
       " 'VinssUnfindable',\n",
       " 'SamiAlMasagedi',\n",
       " 'Aman54kumar',\n",
       " 'alfon22',\n",
       " 'flribeiro',\n",
       " 'KurzGedanke',\n",
       " 'mierloiu_',\n",
       " 'sebahuber',\n",
       " 'romerodias',\n",
       " 'jnogmar',\n",
       " 'SharpFeather',\n",
       " 'felzanpak',\n",
       " 'pbenavent',\n",
       " 'DonHenryUAB',\n",
       " 'AmineNamouchi',\n",
       " 'melonsoda0303',\n",
       " 'JohanG2016',\n",
       " 'Comatose_D',\n",
       " 'BulletTheory25',\n",
       " 'mark4carter',\n",
       " 'jeevanwijerathn',\n",
       " 'nexbit',\n",
       " 'burf2000',\n",
       " 'MikhailItkin',\n",
       " 'mooki13',\n",
       " 'enriquecasasjr',\n",
       " 'jobsampleUK',\n",
       " 'JD_Drinker',\n",
       " 'dberdasc',\n",
       " 'NaufalNibros',\n",
       " 'luissoal',\n",
       " 'ismarleylage',\n",
       " 'runas_root',\n",
       " 'sisterb56',\n",
       " 'leehenstridge',\n",
       " 'ariel_mcm',\n",
       " 'wonuring',\n",
       " 'mrBrownBear',\n",
       " 'GameDevIndies',\n",
       " 'lseror',\n",
       " 'mira80617618',\n",
       " 'silverathalos7',\n",
       " 'jlgarciave',\n",
       " 'schlausbub',\n",
       " 'tonyam_',\n",
       " 'matthiasgor',\n",
       " 'leovidarte',\n",
       " 'Ronin147',\n",
       " 'criticalhiro',\n",
       " 'picocluster',\n",
       " 'kelleydevmore',\n",
       " 'DrShaileshYada2',\n",
       " 'IsmaelLopezA',\n",
       " 'leauferreira',\n",
       " 'SamehElhawary2',\n",
       " 'sconetto',\n",
       " 'JtheGameDev',\n",
       " 'hjdave',\n",
       " 'Ccizer',\n",
       " 'php_synopsis',\n",
       " 'gbelmm',\n",
       " 'psantori',\n",
       " 'LevenThe8',\n",
       " 'Tegizzle',\n",
       " 'GavinBrogan',\n",
       " 'projectspminute',\n",
       " 'simon_lanucha',\n",
       " 'zor972',\n",
       " 'Edu6il',\n",
       " 'sujayR15',\n",
       " 'jaxcon',\n",
       " 'DavidBalakirev',\n",
       " 'yumayah',\n",
       " 'alshashiguchi',\n",
       " 'satyaswaroopkpv',\n",
       " 'br4ks',\n",
       " 'elbrownmcne',\n",
       " 'tapas4java',\n",
       " 'netimmmm',\n",
       " 'djspartaco',\n",
       " 'bhavin04890',\n",
       " 'MicNeo123',\n",
       " 'lolboss',\n",
       " 'drequinox',\n",
       " 'Rafase282',\n",
       " 'McBoss9301',\n",
       " 'ronny_shima',\n",
       " 'JimLry',\n",
       " 'Ale_Zevesh',\n",
       " 'KronnectGames',\n",
       " 'ponceomegasys',\n",
       " 'Dubey2Lakshya',\n",
       " 'nextlevelsh_it',\n",
       " 'candidofabio',\n",
       " 'SujithQ',\n",
       " 'BuyReardenMetal',\n",
       " 'volkap',\n",
       " 'suk3rman',\n",
       " 'MartinHorava',\n",
       " 'WMachotta',\n",
       " 'cho5011',\n",
       " 'GeemanYip',\n",
       " '_daorte',\n",
       " 'jnemecek',\n",
       " '__nsaraiva__',\n",
       " 'KeJSaR',\n",
       " 'pabermod',\n",
       " 'Bloodyene',\n",
       " 'Aleksandar2016',\n",
       " 'tackky',\n",
       " 'juanjocorbalan',\n",
       " 'GigaSirbiladze',\n",
       " 'ZgKresh',\n",
       " 'chaungoctuan',\n",
       " 'ybrajim',\n",
       " 'JulianoTorres',\n",
       " 'TworianHearts',\n",
       " 'hotwap_net',\n",
       " 'Lucia_chavez98',\n",
       " 'ebconsul',\n",
       " 'Micolemac',\n",
       " 'Hamish_Louie',\n",
       " 'DeveloperVegacj',\n",
       " 'scottrodney38',\n",
       " 'ampie_g',\n",
       " 'faamorous',\n",
       " 'onedatla',\n",
       " 'communityTWS',\n",
       " 'dometec',\n",
       " 'Kan_mare',\n",
       " 'RoniRHO',\n",
       " 'devstack74',\n",
       " 'websec99',\n",
       " 'icejoywoo',\n",
       " 'Ivanajenjo7',\n",
       " 'GIRichards',\n",
       " 'Ruben_Clemente',\n",
       " 'sjemastick',\n",
       " 'matthiasdeck',\n",
       " 'OPirson',\n",
       " 'timmedia',\n",
       " 'severuduw',\n",
       " 'HiYusrina',\n",
       " 'HuimbleClown',\n",
       " 'pkvanda',\n",
       " 'Subrat78204034',\n",
       " 'SusieKimLucia',\n",
       " 'Cheestir',\n",
       " 'emurciano',\n",
       " 'ncskiber',\n",
       " 'meanme_com',\n",
       " 'martincholmes',\n",
       " 'shawon922',\n",
       " 'PowerMechGuy',\n",
       " 'Sathiz1993',\n",
       " 'Antonio25x',\n",
       " 'melcinajoe',\n",
       " 'keith_dinh',\n",
       " 'parveen1015',\n",
       " 'ppwozniak',\n",
       " 'acaeronte1',\n",
       " 'AlalmaeiA',\n",
       " 'PatriciaJenkin_',\n",
       " 'skruk',\n",
       " 'BLTSEC',\n",
       " 'fbruch',\n",
       " 'TheFallGuy76',\n",
       " 'charolalin',\n",
       " 'wannabedevops',\n",
       " '2014hamedkarimi',\n",
       " 'agshejdjfuejeke',\n",
       " 'mjs3456',\n",
       " 'maniboopathii',\n",
       " 'EduRonqui',\n",
       " 'gandhivivek96',\n",
       " 'bergol',\n",
       " 'muhammadbilaaal',\n",
       " 'ricardoludwig',\n",
       " 'Bjarniji',\n",
       " 'MoAlkhafaji',\n",
       " 'MlkiTouch',\n",
       " 'Antho_P',\n",
       " 'ChetanPinupa',\n",
       " 'bmm79',\n",
       " 'EdewaJosh',\n",
       " 'uncoolster',\n",
       " 'rvojjala',\n",
       " 'Draexx',\n",
       " 'yen3',\n",
       " 'MuturiMorris',\n",
       " 'shanesemanek',\n",
       " 'tutofr',\n",
       " 'Jermain23196498',\n",
       " 'maldrovandi_',\n",
       " 'ChinfengChung',\n",
       " 'lacsousa',\n",
       " 'DejanSarka',\n",
       " 'hfschwing',\n",
       " 'zuminor3',\n",
       " 'alaloureiro1',\n",
       " 'katsharp',\n",
       " 'AndyDeweirt',\n",
       " 'dcartman',\n",
       " 'R0mZai',\n",
       " 'pm_rajput',\n",
       " 'Anan83782856',\n",
       " 'garyalanburns',\n",
       " 'nanouBG',\n",
       " 'cbsanchez',\n",
       " 'hmhkh',\n",
       " 'hwdin9',\n",
       " 'StefMLive',\n",
       " 'gkanand02',\n",
       " 'AMJAD_SH',\n",
       " 'seselia10',\n",
       " 'TalineFelix3',\n",
       " 'skrattinger',\n",
       " 'auroop',\n",
       " 'Loyihm',\n",
       " 'ariantos',\n",
       " 'MMM',\n",
       " 'azharuddin_p',\n",
       " 'manuti',\n",
       " 'rwiluk',\n",
       " 'camaraa05',\n",
       " 'MentzelAnders',\n",
       " 'Rocciavelli',\n",
       " 'nortoncg',\n",
       " 'the_Quixotics',\n",
       " 'ReaderRJ',\n",
       " 'KuangJou',\n",
       " 'cheyennedogs',\n",
       " 'juassico',\n",
       " 'matuvarela',\n",
       " '_OrangeStreet',\n",
       " 'epatryk',\n",
       " 'ivanalexandrovv',\n",
       " 'garrypeace',\n",
       " 'krus81',\n",
       " 'terziefff',\n",
       " 'heitortancredo',\n",
       " 'ferchunix1',\n",
       " 'claudineimatoss',\n",
       " 'sky_maniac',\n",
       " 'Tanee_sr',\n",
       " 'pcucurullo',\n",
       " 'klashxx',\n",
       " 'XwzLiang',\n",
       " 'BrianHanley1',\n",
       " 'ChunchengZeng',\n",
       " 'mammetow',\n",
       " 'stblack',\n",
       " 'markopl96',\n",
       " 'DrupalPartners',\n",
       " 'angelparliamen1',\n",
       " 'liruiguang',\n",
       " 'Jing2514568901',\n",
       " 'TChristenson_25',\n",
       " 'skynetindia',\n",
       " 'KalleBylin',\n",
       " 'Wangkexue',\n",
       " 'omegabkThenew',\n",
       " 'fsclaro',\n",
       " 'daldredge',\n",
       " 'H3li0',\n",
       " 'whoisjohngalt58',\n",
       " 'xkreseczkax',\n",
       " 'herbataToNarkot',\n",
       " 'vitike',\n",
       " 'l3pus',\n",
       " 'jamey_ya',\n",
       " 'kweissman',\n",
       " 'Stonewolfe',\n",
       " 'jonbettinger',\n",
       " 'movretsim',\n",
       " 'Schmitzilla',\n",
       " 'ppeOrphen2',\n",
       " 'Prasoon1403',\n",
       " 'robertrudzinski',\n",
       " 'codebubb',\n",
       " 'souzacampus',\n",
       " 'madina_nyc',\n",
       " 'AgilePeopleUK',\n",
       " 'antoniojuve74',\n",
       " 'Simone_Celia',\n",
       " 'raudo73',\n",
       " 'toby2xl',\n",
       " 'mikkomikkola',\n",
       " 'alexeyhanin',\n",
       " 'Alucaard',\n",
       " 'RavoRnjn',\n",
       " 'TFertinel',\n",
       " '_rac01',\n",
       " 'Peds1960',\n",
       " ...]"
      ]
     },
     "execution_count": 9,
     "metadata": {},
     "output_type": "execute_result"
    }
   ],
   "source": [
    "fonotfo"
   ]
  },
  {
   "cell_type": "code",
   "execution_count": 10,
   "metadata": {
    "slideshow": {
     "slide_type": "slide"
    }
   },
   "outputs": [
    {
     "name": "stdout",
     "output_type": "stream",
     "text": [
      "----- Timing -----\n",
      "Initialize data: 0.009883880615234375\n",
      "Set-based operations: 4.601478576660156e-05\n",
      "Total time: 0.009929895401000977\n",
      "tigerwan2008 has 5 followers\n",
      "tigerwan2008 has 95 friends\n",
      "tigerwan2008 has 3 mutual friends\n",
      "92 friends are not following tigerwan2008 back\n",
      "2 followers are not followed back by tigerwan2008\n"
     ]
    }
   ],
   "source": [
    "(followers1, friends1, mutual1,fonotfo1,frinotfol1)=followers_count(\"tigerwan2008\")"
   ]
  },
  {
   "cell_type": "code",
   "execution_count": 11,
   "metadata": {
    "slideshow": {
     "slide_type": "slide"
    }
   },
   "outputs": [
    {
     "name": "stdout",
     "output_type": "stream",
     "text": [
      "----- Timing -----\n",
      "Initialize data: 1.3648018836975098\n",
      "Set-based operations: 0.011069059371948242\n",
      "Total time: 1.375870943069458\n",
      "----- Stats -----\n",
      "PacktPub has 14999 followers\n",
      "PacktPub has 1163 friends\n",
      "PacktPub has 139 mutual friends\n",
      "1024 friends are not following PacktPub back\n",
      "14860 followers are not followed back by PacktPub\n"
     ]
    }
   ],
   "source": [
    "(followers, friends, mutual,fonotfo,frinotfol)=followers_count2(\"PacktPub\")"
   ]
  },
  {
   "cell_type": "markdown",
   "metadata": {
    "slideshow": {
     "slide_type": "slide"
    }
   },
   "source": [
    "## Find import user- influencer"
   ]
  },
  {
   "cell_type": "markdown",
   "metadata": {
    "slideshow": {
     "slide_type": "slide"
    }
   },
   "source": [
    "- influencer marketing targets key individuals rather than the market as a whole "
   ]
  },
  {
   "cell_type": "markdown",
   "metadata": {
    "slideshow": {
     "slide_type": "slide"
    }
   },
   "source": [
    "- user engagement: assessment of the response to a particular offer, such as a product or service.  In twitter, \"retweeting\" or \"liking\" a particular tweet. "
   ]
  },
  {
   "cell_type": "markdown",
   "metadata": {
    "slideshow": {
     "slide_type": "slide"
    }
   },
   "source": [
    "### More followers, more influence?"
   ]
  },
  {
   "cell_type": "code",
   "execution_count": 12,
   "metadata": {
    "slideshow": {
     "slide_type": "slide"
    }
   },
   "outputs": [],
   "source": [
    "from twitter_one.userinfluence import *\n",
    "(followers1,tweets1,favorite_count1,retweet_count1,reach1)=userReach('tigerwan2008')"
   ]
  },
  {
   "cell_type": "code",
   "execution_count": 20,
   "metadata": {},
   "outputs": [
    {
     "name": "stdout",
     "output_type": "stream",
     "text": [
      "5\n",
      "5\n",
      "[0, 0, 2, 0, 2]\n",
      "[11467, 0, 0, 0, 0]\n"
     ]
    }
   ],
   "source": [
    "print(followers1)\n",
    "print(tweets1)\n",
    "print(favorite_count1)\n",
    "print(retweet_count1)"
   ]
  },
  {
   "cell_type": "code",
   "execution_count": 13,
   "metadata": {
    "slideshow": {
     "slide_type": "slide"
    }
   },
   "outputs": [],
   "source": [
    "(followers2,tweets2,favorite_count2,retweet_count2,reach2)=userReach('PacktPub')"
   ]
  },
  {
   "cell_type": "code",
   "execution_count": 14,
   "metadata": {
    "slideshow": {
     "slide_type": "slide"
    }
   },
   "outputs": [
    {
     "name": "stdout",
     "output_type": "stream",
     "text": [
      "----- Stats tigerwan2008 -----\n",
      "5 followers\n",
      "12469 users reached by 1-degree connections\n",
      "Average number of followers for tigerwan2008's followers: 2493.8\n",
      "Favorited 4 times (0.8 per tweet, 0.8 per user)\n",
      "Retweeted 11467 times (2293.4 per tweet, 2293.4 per user)\n"
     ]
    }
   ],
   "source": [
    "influenceStat(\"tigerwan2008\", followers1,tweets1,favorite_count1,\n",
    "              retweet_count1,reach1)"
   ]
  },
  {
   "cell_type": "code",
   "execution_count": 21,
   "metadata": {
    "slideshow": {
     "slide_type": "slide"
    }
   },
   "outputs": [
    {
     "name": "stdout",
     "output_type": "stream",
     "text": [
      "----- Stats PacktPub -----\n",
      "19935 followers\n",
      "27827265 users reached by 1-degree connections\n",
      "Average number of followers for PacktPub's followers: 1395.9\n",
      "Favorited 12124 times (0.69 per tweet, 0.61 per user)\n",
      "Retweeted 199910 times (11.42 per tweet, 10.03 per user)\n"
     ]
    }
   ],
   "source": [
    "influenceStat(\"PacktPub\", followers2,tweets2,favorite_count2,\n",
    "              retweet_count2,reach2)"
   ]
  },
  {
   "cell_type": "markdown",
   "metadata": {
    "slideshow": {
     "slide_type": "slide"
    }
   },
   "source": [
    "My followers are much more engaged with my content than PacktPub's. It seems that I have more influence. Is that right? \n"
   ]
  },
  {
   "cell_type": "markdown",
   "metadata": {
    "slideshow": {
     "slide_type": "slide"
    }
   },
   "source": [
    "## Clustering of Users/Followers "
   ]
  },
  {
   "cell_type": "markdown",
   "metadata": {
    "slideshow": {
     "slide_type": "slide"
    }
   },
   "source": [
    "Instead of using clustering coefficient to and component analysis, we will cluster users using [kmeans method](https://en.wikipedia.org/wiki/K-means_clustering). "
   ]
  },
  {
   "cell_type": "markdown",
   "metadata": {
    "slideshow": {
     "slide_type": "slide"
    }
   },
   "source": [
    "- each user's info can be represented as n-dimensional vector\n",
    "- kmeans algorithm can calculate the similarity among different users"
   ]
  },
  {
   "cell_type": "markdown",
   "metadata": {
    "slideshow": {
     "slide_type": "slide"
    }
   },
   "source": [
    "Next, we will cluster users using text of their description . \n",
    "In a large text corpus, some words will be very present (e.g. “the”, “a”, “is” in English) hence carrying very little meaningful information about the actual contents of the document. If we were to feed the direct count data directly to a classifier those very frequent terms would shadow the frequencies of rarer yet more interesting terms.\n",
    "In order to re-weight the count features into floating point values suitable for usage by a classifier it is very common to use the tf–idf transform.\n",
    "- Tf means term-frequency while tf–idf means term-frequency times inverse document-frequency"
   ]
  },
  {
   "cell_type": "markdown",
   "metadata": {
    "slideshow": {
     "slide_type": "slide"
    }
   },
   "source": [
    "### KMeans clustering "
   ]
  },
  {
   "cell_type": "code",
   "execution_count": 4,
   "metadata": {
    "slideshow": {
     "slide_type": "slide"
    }
   },
   "outputs": [
    {
     "data": {
      "text/html": [
       "<div>\n",
       "<table border=\"1\" class=\"dataframe\">\n",
       "  <thead>\n",
       "    <tr style=\"text-align: right;\">\n",
       "      <th></th>\n",
       "      <th>0</th>\n",
       "      <th>1</th>\n",
       "      <th>2</th>\n",
       "      <th>3</th>\n",
       "      <th>4</th>\n",
       "      <th>5</th>\n",
       "      <th>6</th>\n",
       "      <th>7</th>\n",
       "      <th>8</th>\n",
       "      <th>9</th>\n",
       "      <th>...</th>\n",
       "      <th>81</th>\n",
       "      <th>82</th>\n",
       "      <th>83</th>\n",
       "      <th>84</th>\n",
       "      <th>85</th>\n",
       "      <th>86</th>\n",
       "      <th>87</th>\n",
       "      <th>88</th>\n",
       "      <th>89</th>\n",
       "      <th>90</th>\n",
       "    </tr>\n",
       "  </thead>\n",
       "  <tbody>\n",
       "    <tr>\n",
       "      <th>0</th>\n",
       "      <td>1.682880</td>\n",
       "      <td>1.264091</td>\n",
       "      <td>0.845061</td>\n",
       "      <td>0.761226</td>\n",
       "      <td>1.012702</td>\n",
       "      <td>1.096508</td>\n",
       "      <td>0.845061</td>\n",
       "      <td>0.845061</td>\n",
       "      <td>0.593527</td>\n",
       "      <td>0.845061</td>\n",
       "      <td>...</td>\n",
       "      <td>-0.581451</td>\n",
       "      <td>-0.833479</td>\n",
       "      <td>-0.497461</td>\n",
       "      <td>-1.421886</td>\n",
       "      <td>-1.674206</td>\n",
       "      <td>-1.674206</td>\n",
       "      <td>-1.505982</td>\n",
       "      <td>-2.010768</td>\n",
       "      <td>-2.010768</td>\n",
       "      <td>4.462718</td>\n",
       "    </tr>\n",
       "    <tr>\n",
       "      <th>1</th>\n",
       "      <td>0.234567</td>\n",
       "      <td>0.047408</td>\n",
       "      <td>0.047408</td>\n",
       "      <td>0.047408</td>\n",
       "      <td>0.234567</td>\n",
       "      <td>0.328131</td>\n",
       "      <td>-0.046188</td>\n",
       "      <td>-0.046188</td>\n",
       "      <td>0.889286</td>\n",
       "      <td>0.889286</td>\n",
       "      <td>...</td>\n",
       "      <td>-1.732771</td>\n",
       "      <td>-1.263923</td>\n",
       "      <td>-1.263923</td>\n",
       "      <td>-1.263923</td>\n",
       "      <td>-1.263923</td>\n",
       "      <td>-1.263923</td>\n",
       "      <td>-1.263923</td>\n",
       "      <td>-1.263923</td>\n",
       "      <td>-1.545199</td>\n",
       "      <td>-5.422140</td>\n",
       "    </tr>\n",
       "    <tr>\n",
       "      <th>2</th>\n",
       "      <td>1.612010</td>\n",
       "      <td>1.972912</td>\n",
       "      <td>1.972912</td>\n",
       "      <td>1.672178</td>\n",
       "      <td>2.033038</td>\n",
       "      <td>1.672178</td>\n",
       "      <td>1.672178</td>\n",
       "      <td>1.672178</td>\n",
       "      <td>1.732338</td>\n",
       "      <td>1.371269</td>\n",
       "      <td>...</td>\n",
       "      <td>-2.253232</td>\n",
       "      <td>-2.253232</td>\n",
       "      <td>-2.253232</td>\n",
       "      <td>-2.253232</td>\n",
       "      <td>-2.253232</td>\n",
       "      <td>-1.707949</td>\n",
       "      <td>-1.344743</td>\n",
       "      <td>-1.344743</td>\n",
       "      <td>-1.344743</td>\n",
       "      <td>5.745321</td>\n",
       "    </tr>\n",
       "    <tr>\n",
       "      <th>3</th>\n",
       "      <td>2.070726</td>\n",
       "      <td>2.070726</td>\n",
       "      <td>2.139625</td>\n",
       "      <td>1.726113</td>\n",
       "      <td>1.312315</td>\n",
       "      <td>0.829187</td>\n",
       "      <td>0.622013</td>\n",
       "      <td>0.898229</td>\n",
       "      <td>0.138327</td>\n",
       "      <td>-0.069087</td>\n",
       "      <td>...</td>\n",
       "      <td>-1.384384</td>\n",
       "      <td>-1.384384</td>\n",
       "      <td>-1.384384</td>\n",
       "      <td>-0.138241</td>\n",
       "      <td>0.138327</td>\n",
       "      <td>0.138327</td>\n",
       "      <td>-0.207403</td>\n",
       "      <td>-0.622543</td>\n",
       "      <td>0.138327</td>\n",
       "      <td>-4.458664</td>\n",
       "    </tr>\n",
       "    <tr>\n",
       "      <th>4</th>\n",
       "      <td>0.721961</td>\n",
       "      <td>0.721961</td>\n",
       "      <td>0.721961</td>\n",
       "      <td>0.721961</td>\n",
       "      <td>0.721961</td>\n",
       "      <td>1.251012</td>\n",
       "      <td>1.326555</td>\n",
       "      <td>1.326555</td>\n",
       "      <td>0.948750</td>\n",
       "      <td>1.024328</td>\n",
       "      <td>...</td>\n",
       "      <td>0.797566</td>\n",
       "      <td>0.797566</td>\n",
       "      <td>0.797566</td>\n",
       "      <td>0.797566</td>\n",
       "      <td>1.251012</td>\n",
       "      <td>1.326555</td>\n",
       "      <td>0.948750</td>\n",
       "      <td>0.948750</td>\n",
       "      <td>0.948750</td>\n",
       "      <td>-4.773266</td>\n",
       "    </tr>\n",
       "  </tbody>\n",
       "</table>\n",
       "<p>5 rows × 91 columns</p>\n",
       "</div>"
      ],
      "text/plain": [
       "         0         1         2         3         4         5         6   \\\n",
       "0  1.682880  1.264091  0.845061  0.761226  1.012702  1.096508  0.845061   \n",
       "1  0.234567  0.047408  0.047408  0.047408  0.234567  0.328131 -0.046188   \n",
       "2  1.612010  1.972912  1.972912  1.672178  2.033038  1.672178  1.672178   \n",
       "3  2.070726  2.070726  2.139625  1.726113  1.312315  0.829187  0.622013   \n",
       "4  0.721961  0.721961  0.721961  0.721961  0.721961  1.251012  1.326555   \n",
       "\n",
       "         7         8         9     ...           81        82        83  \\\n",
       "0  0.845061  0.593527  0.845061    ...    -0.581451 -0.833479 -0.497461   \n",
       "1 -0.046188  0.889286  0.889286    ...    -1.732771 -1.263923 -1.263923   \n",
       "2  1.672178  1.732338  1.371269    ...    -2.253232 -2.253232 -2.253232   \n",
       "3  0.898229  0.138327 -0.069087    ...    -1.384384 -1.384384 -1.384384   \n",
       "4  1.326555  0.948750  1.024328    ...     0.797566  0.797566  0.797566   \n",
       "\n",
       "         84        85        86        87        88        89        90  \n",
       "0 -1.421886 -1.674206 -1.674206 -1.505982 -2.010768 -2.010768  4.462718  \n",
       "1 -1.263923 -1.263923 -1.263923 -1.263923 -1.263923 -1.545199 -5.422140  \n",
       "2 -2.253232 -2.253232 -1.707949 -1.344743 -1.344743 -1.344743  5.745321  \n",
       "3 -0.138241  0.138327  0.138327 -0.207403 -0.622543  0.138327 -4.458664  \n",
       "4  0.797566  1.251012  1.326555  0.948750  0.948750  0.948750 -4.773266  \n",
       "\n",
       "[5 rows x 91 columns]"
      ]
     },
     "execution_count": 4,
     "metadata": {},
     "output_type": "execute_result"
    }
   ],
   "source": [
    "import pandas as pd\n",
    "price=pd.read_csv(\"users/\"+\"stock.csv\",header=None)\n",
    "price.head()"
   ]
  },
  {
   "cell_type": "code",
   "execution_count": 11,
   "metadata": {
    "slideshow": {
     "slide_type": "slide"
    }
   },
   "outputs": [],
   "source": [
    "from sklearn.cluster import KMeans\n",
    "\n",
    "kk = KMeans(n_clusters=4, init='k-means++', n_init=10, max_iter=100000, tol=0.00001,\n",
    "                    random_state=100, n_jobs=-1, algorithm='full')\n",
    "compu_kmeans = kk.fit(price)\n",
    "kernel=compu_kmeans.cluster_centers_"
   ]
  },
  {
   "cell_type": "code",
   "execution_count": 12,
   "metadata": {
    "slideshow": {
     "slide_type": "slide"
    }
   },
   "outputs": [
    {
     "data": {
      "text/plain": [
       "(4, 91)"
      ]
     },
     "execution_count": 12,
     "metadata": {},
     "output_type": "execute_result"
    }
   ],
   "source": [
    "kernel.shape"
   ]
  },
  {
   "cell_type": "markdown",
   "metadata": {
    "slideshow": {
     "slide_type": "slide"
    }
   },
   "source": [
    "With Kmeans clustering, we successfully cluster the pattern of stock price change into 4 clusters. But whether cluster number =4 is good enough? It is very subjective. We use the following standard in practice\n",
    "- "
   ]
  },
  {
   "cell_type": "code",
   "execution_count": 16,
   "metadata": {
    "slideshow": {
     "slide_type": "slide"
    }
   },
   "outputs": [
    {
     "name": "stdout",
     "output_type": "stream",
     "text": [
      "5\n"
     ]
    }
   ],
   "source": [
    "from sklearn.metrics import  silhouette_score\n",
    "import numpy as np\n",
    "single_score=[]\n",
    "max=20\n",
    "for i in range(max):\n",
    "    kk = KMeans(n_clusters=i + 2, init='k-means++', n_init=10, max_iter=100000, tol=0.00001,\n",
    "                random_state=100, n_jobs=-1, algorithm='full')\n",
    "    compu_kmeans = kk.fit(price)\n",
    "    y_predict = compu_kmeans.fit_predict(price)\n",
    "    single_score.append(silhouette_score(price, y_predict))\n",
    "print(np.argmax(single_score) + 2)"
   ]
  },
  {
   "cell_type": "markdown",
   "metadata": {
    "slideshow": {
     "slide_type": "slide"
    }
   },
   "source": [
    "### User clustering based on description "
   ]
  },
  {
   "cell_type": "code",
   "execution_count": 25,
   "metadata": {
    "slideshow": {
     "slide_type": "slide"
    }
   },
   "outputs": [],
   "source": [
    "from twitter_one.clustering import *"
   ]
  },
  {
   "cell_type": "code",
   "execution_count": 26,
   "metadata": {
    "collapsed": true,
    "slideshow": {
     "slide_type": "slide"
    }
   },
   "outputs": [],
   "source": [
    "filename=\"users/PacktPub\"+\"/followers.jsonl\""
   ]
  },
  {
   "cell_type": "code",
   "execution_count": 27,
   "metadata": {
    "slideshow": {
     "slide_type": "slide"
    }
   },
   "outputs": [
    {
     "name": "stdout",
     "output_type": "stream",
     "text": [
      "Data dimensions: (14999, 8)\n",
      "---------- Cluster 0\n",
      "\n",
      "\n",
      "\n",
      "\n",
      "computação,tecnologia da informacao,Pop/Rock,Games e Séries\n",
      "#DFIR #NSM\n",
      "Just some guy\n",
      "Iktisat,Egitim,foreign trade,Sanat ve zenaat, ictetkik,http://t.co/FKsByVhp8l\n",
      "No luches para vivir, vive para luchar.\n",
      " Estudiante de Ingeniería Informática en la UAH.\n",
      "\n",
      "---------- Cluster 1\n",
      "Coralogix helps software companies avoid getting lost in their log data by figuring out their production problems automatically\n",
      "I major in software engineering. Programming(JAVA, mostly), Spring fans,,Akka fans,,,Rxjava fans.\n",
      "software engineer 🤓\n",
      "@GluonHQ co-founder. Software architect, Java and Scala enthusiast.\n",
      "Evolving, challenging, designing,pushing,leading VR,AR MR,AI application,gaming,hardware, software,usage & technology & other disruption since 1975\n",
      "A Software Engineering/Java consultant and trainer. Curious and emotional engineer, lover of wisdom.\n",
      "Software Engineer @cisco bangalore\n",
      "Computerist: Java, Android, TDD, Kotlin, Software Development, Tabs v Spaces, etc.\n",
      "B. Sc., GrDip in chemistry and software engineering student at Université Laval in Quebec city #Music #Astronomy #Chemistry #Science\n",
      "Software (Java/JEE/Android) Consultant. Interested in creating software products (Start-Ups?). Hobby game developer and Star Trek fan.\n",
      "---------- Cluster 2\n",
      "Students of Software Engineering #MSP2016 #NodeJs #JavaScript #Programming #SEO #Developer #ict4d\n",
      "Java Developer at Britenet\n",
      "Software Developer and Microsoft MVP Visual Studio and Development Technologies from Bologna. Opinions are my own, not Microsoft's.\n",
      "Software developer, football (soccer) aficionado\n",
      "Software developer, Ringwinner, aspiring adventurer, thinker, experimenter, barrel rider, husband, dad, son, brother, friend, Luckwearer\n",
      "Dreamer - Designer - Developer - Trainer - Photography Lover\n",
      "Google Developer Group Sardegna, JavaUserGroupSardegna,  Spring ItUG, Spring AOP Author, Gopher, father of one girl and two boys.RedHatter. My Tweets Are My Own\n",
      "*@#$ Enthusiasm *Junior Android Developer $#@* *@#$ Android Nanodegree Student @Udacity $#@*\n",
      "Android Developer\n",
      "Student. Hobbyist game developer, graphics programmer. Likes hackathons and game jams. @wontorres dev account.\n",
      "---------- Cluster 3\n",
      "Full Stack Web Developer\n",
      "Presales Engineer @Infobip | Web Developer at home\n",
      "Freelance web developer and consultant. Looking to create new things.\n",
      "Docente / Investigador / Desarrollador de Tecnologías Móviles y Web\n",
      "#student, interested in enterprise web application development, trying to dig #java #world, #web #developer, influenced by #FOSS, #rotractor, #osm #mapper\n",
      "Freelance web-developer. Really likes trees.\n",
      "likes to be straight-froward, believes in god, emotional. Web development, Cars, bikes,Cooking (seldom) Passionate indian , a proud tamilian\n",
      "Am a programmer,  Web developer and love doing my job well,  proficient with Java development,  Android development.\n",
      "Web Developer in Training #6monthchallenge\n",
      "#100DaysOfCode\n",
      "PPCYOGI is India’s leading Digital Marketing Company based in Chandigarh, offering world class services in SEO, SEM, PPC, SMM, web development and Landing Page.\n",
      "---------- Cluster 4\n",
      "Co-founder and President of WalkMe Inc. https://t.co/KIOBVkyIPj. Forever curious. Talk to me about UX, AI, and the intersection of the two!\n",
      "is a Designer & Art Director.\n",
      " Portfolio:  https://t.co/e8ijeZ30ck\n",
      "Behance: https://t.co/BcxzyWWz6l\n",
      "Instagram: https://t.co/cSS0SOAts5\n",
      "roma, 52, runner, left, https://t.co/i2etq2rlXV, beatles, ilsorpasso.\n",
      "Entusiasta Java que gosta muito de conhecer novos Frameworks e não vive sem uma boa música! https://t.co/ItizeGgh1L\n",
      "DevOps / Automation Engineer - Freelance\n",
      "\n",
      "https://t.co/5u3XVBaWb4\n",
      "IT/IS Professional | Dreamer | GM - IT @Vserv,@hellovmax ( https://t.co/SuqW1bTVuu )\n",
      "So eine Art Logcat. Von verbose bis error. Meistens debug. Android/LineageOS|Java|Minecraft|Fedora|Gitarre|Angeln|2001 https://t.co/56LMgwShsZ\n",
      ".NET #Developer (C#.NET and https://t.co/qKRmcNtLdU). Now I am developing any kind of #WindowsApplication and #WebApplication. #webdesigner #CSharpDeveloper\n",
      "Tecnología, fútbol y R&R. @OpiTrends https://t.co/jrWQJAN1sP\n",
      "Github: https://t.co/rCO7BZm6O6\n"
     ]
    }
   ],
   "source": [
    "cluster=userCluster(filename,5,with_idf=True)"
   ]
  },
  {
   "cell_type": "code",
   "execution_count": null,
   "metadata": {
    "collapsed": true,
    "slideshow": {
     "slide_type": "slide"
    }
   },
   "outputs": [],
   "source": []
  },
  {
   "cell_type": "code",
   "execution_count": null,
   "metadata": {
    "collapsed": true,
    "slideshow": {
     "slide_type": "slide"
    }
   },
   "outputs": [],
   "source": []
  },
  {
   "cell_type": "code",
   "execution_count": null,
   "metadata": {
    "collapsed": true,
    "slideshow": {
     "slide_type": "slide"
    }
   },
   "outputs": [],
   "source": []
  }
 ],
 "metadata": {
  "celltoolbar": "Slideshow",
  "hide_input": false,
  "kernelspec": {
   "display_name": "Python 3",
   "language": "python",
   "name": "python3"
  },
  "language_info": {
   "codemirror_mode": {
    "name": "ipython",
    "version": 3
   },
   "file_extension": ".py",
   "mimetype": "text/x-python",
   "name": "python",
   "nbconvert_exporter": "python",
   "pygments_lexer": "ipython3",
   "version": "3.5.2"
  },
  "latex_envs": {
   "bibliofile": "biblio.bib",
   "cite_by": "apalike",
   "current_citInitial": 1,
   "eqLabelWithNumbers": true,
   "eqNumInitial": 0
  }
 },
 "nbformat": 4,
 "nbformat_minor": 1
}
