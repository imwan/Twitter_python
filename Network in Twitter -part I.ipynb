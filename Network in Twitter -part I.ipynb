{
 "cells": [
  {
   "cell_type": "markdown",
   "metadata": {
    "slideshow": {
     "slide_type": "slide"
    }
   },
   "source": [
    "# Getting started \n",
    " "
   ]
  },
  {
   "cell_type": "markdown",
   "metadata": {
    "slideshow": {
     "slide_type": "subslide"
    }
   },
   "source": [
    "Twitter is one of the most well known online social networks in the recent years, which is referred to as microblogging.  There is a limitation of 140 characters like an SMS for each tweet. Unlike Facebook, the Twitter network is not bidirectional(directed network) and connects don't have to be mutual. \n"
   ]
  },
  {
   "cell_type": "markdown",
   "metadata": {
    "slideshow": {
     "slide_type": "slide"
    }
   },
   "source": [
    "Twitter is also responsible for popularizing the use of term hashtag as a way to group conversations and allow  users to follow a particular topic. A hashtag is a single keyword preficed by a $#$ symbol, for example, #Quanta.\n",
    "\n"
   ]
  },
  {
   "cell_type": "markdown",
   "metadata": {
    "slideshow": {
     "slide_type": "subslide"
    }
   },
   "source": [
    "Twitter is a potential gold mine for data miners."
   ]
  },
  {
   "cell_type": "markdown",
   "metadata": {
    "slideshow": {
     "slide_type": "slide"
    }
   },
   "source": [
    "Unlike traditional internet company, Twitter offers a series of APIs [Application Programming Interfaces]( https://www.youtube.com/watch?v=B9vPoCOP7oY&index=12&list=RDUr2AQKoGbbA) to provide programmatic access to Twitter data, including reading tweets, accessing user profiles, and posting content on behalf of a user. "
   ]
  },
  {
   "cell_type": "markdown",
   "metadata": {
    "slideshow": {
     "slide_type": "slide"
    }
   },
   "source": [
    "To set up our project to access Twitter data, there are two preliminary steps, as follows:\n",
    "- Registering our application\n",
    "- Choosing a Twitter API client"
   ]
  },
  {
   "cell_type": "markdown",
   "metadata": {
    "slideshow": {
     "slide_type": "slide"
    }
   },
   "source": [
    "## Registration step\n",
    "\n",
    "Assuming that we are already logged into our Twitter account, point our browser to the application management page at http://apps.twitter.com and create a new app. "
   ]
  },
  {
   "cell_type": "markdown",
   "metadata": {
    "slideshow": {
     "slide_type": "slide"
    }
   },
   "source": [
    "## Search versus Stream\n"
   ]
  },
  {
   "cell_type": "markdown",
   "metadata": {
    "slideshow": {
     "slide_type": "slide"
    }
   },
   "source": [
    "Twitter provides more a single API.  To keep things simple, we can categorize our options into two classes: REST APIs and Streaming API:\n",
    "<img src='pic/datastream.jpg'>"
   ]
  },
  {
   "cell_type": "markdown",
   "metadata": {
    "slideshow": {
     "slide_type": "slide"
    }
   },
   "source": [
    "- REST APIs only allow you to go back in time. It is usually possible to go back in time up to approximately one week. \n",
    "- Streaming API looks into future. \n",
    "\n",
    "Hnece streaming API is preferred way of downloading a huge amount of tweets although it is more time consuming. "
   ]
  },
  {
   "cell_type": "markdown",
   "metadata": {
    "slideshow": {
     "slide_type": "slide"
    }
   },
   "source": [
    "## Tweepy"
   ]
  },
  {
   "cell_type": "markdown",
   "metadata": {
    "slideshow": {
     "slide_type": "slide"
    }
   },
   "source": [
    "We need to install some python modules to make connections to twitter easier. We choose tweepy which offers a wider support and actively maintained. We can install it using \n",
    "\n",
    "**pip install tweepy**\n"
   ]
  },
  {
   "cell_type": "markdown",
   "metadata": {},
   "source": [
    "!pip install tweepy"
   ]
  },
  {
   "cell_type": "markdown",
   "metadata": {
    "collapsed": true,
    "slideshow": {
     "slide_type": "slide"
    }
   },
   "source": [
    "## Rate limits\n",
    "The twitter api limits access to applications: The twitter will return an error message rather than data we are asking for if we hit the api limits. In practice, we use "
   ]
  },
  {
   "cell_type": "code",
   "execution_count": null,
   "metadata": {
    "collapsed": true,
    "slideshow": {
     "slide_type": "slide"
    }
   },
   "outputs": [],
   "source": [
    "import time\n",
    "time.sleep(10)\n",
    "print(\"Wait so long time\")"
   ]
  },
  {
   "cell_type": "code",
   "execution_count": 3,
   "metadata": {
    "collapsed": true,
    "slideshow": {
     "slide_type": "slide"
    }
   },
   "outputs": [],
   "source": [
    "access_token='85078098-4UPxG1Ybo3zz3cvsctbSGwd6yAZrECOjYqJrTJRtN'\n",
    "access_token_secret='Rt675oqbOB4MwqiDxQ9fqmKB1DzEh8g7nlg9VolOWEJGX'\n",
    "consumer_key='mfJ9RUNzagCkb6c3KCehjui1E'\n",
    "consumer_secret='L6Lk2kvXxJ92GhDBWSLpBgkCGa5sRcG1sDYgX0no6FCayikDLA'\n",
    "code=[access_token,access_token_secret,consumer_key,consumer_secret]"
   ]
  },
  {
   "cell_type": "code",
   "execution_count": 4,
   "metadata": {
    "slideshow": {
     "slide_type": "slide"
    }
   },
   "outputs": [
    {
     "name": "stdout",
     "output_type": "stream",
     "text": [
      "<class 'tweepy.api.API'>\n"
     ]
    }
   ],
   "source": [
    "from twitter_one.client import *  \n",
    "client=get_twitter_client(code)\n",
    "print(type(client))\n"
   ]
  },
  {
   "cell_type": "markdown",
   "metadata": {
    "slideshow": {
     "slide_type": "slide"
    }
   },
   "source": [
    "## Getting tweets from the timeline"
   ]
  },
  {
   "cell_type": "markdown",
   "metadata": {
    "slideshow": {
     "slide_type": "fragment"
    }
   },
   "source": [
    "Let us first consider ample scenario : how to get the firt ten tweets of your own home timeline "
   ]
  },
  {
   "cell_type": "code",
   "execution_count": 5,
   "metadata": {
    "slideshow": {
     "slide_type": "slide"
    }
   },
   "outputs": [
    {
     "name": "stdout",
     "output_type": "stream",
     "text": [
      "Watch George Church's moving toast at the 2017 #TIME100 Gala https://t.co/I8vBfGarfs\n",
      "Trump opposes including Obamacare subsidies in spending bill: Mulvaney https://t.co/p9yyPjD8fA https://t.co/ZZ0nLfv5yk\n",
      "Green &amp; organic rice to world: China to work with Laos on modern agricultural project under #BeltandRoadIniative… https://t.co/QQiPOqsNv6\n",
      "RT @climate: Denmark’s renewable energy industry is ready to survive on its own sooner than expected https://t.co/vxpA96gIr4 https://t.co/U…\n",
      "Trump to meet Australian PM, relations strained over asylum seekers https://t.co/CxfyoOepmX\n",
      "唉，叫「美斯」都要受罪，今次真係要改名做「美欺」啦！\n",
      "\n",
      "【性情大變】取名「美斯」惹禍　伊童俾IS禁錮2年\n",
      "https://t.co/aelITJJBRM ←短片 https://t.co/CyMm00mIyk\n",
      "Does your credit card make you feel more attractive? Wells Fargo wants to know (via @Davidlaz)… https://t.co/7PrGvsjwEm\n",
      "The Mercers have been a quite but constant presence in Republican politics since the beginning of Trump's campaign. https://t.co/I5YGyPREzc\n",
      "LIVE: How are green leaves made into nice tea? Just 10 steps. Join us in cradle of tea in SW China’s Yunnan https://t.co/7vkU1KOfsl\n",
      "Dividend Aristocrat Grainger (GWW) Is Down 24% Since February: Buying Opportunity Or Amazon Victim?… https://t.co/7jQUpQawrY\n"
     ]
    }
   ],
   "source": [
    "from twitter_one.timeline import *\n",
    "printHomeLine(client, 10)"
   ]
  },
  {
   "cell_type": "code",
   "execution_count": 6,
   "metadata": {
    "collapsed": true,
    "slideshow": {
     "slide_type": "slide"
    }
   },
   "outputs": [],
   "source": [
    "userTimeLine(client,'tigerwan2008')\n",
    "userTimeLine(client,'PacktPub')"
   ]
  },
  {
   "cell_type": "markdown",
   "metadata": {
    "slideshow": {
     "slide_type": "slide"
    }
   },
   "source": [
    "As a Twitter user, your home timeline is the screen that yousee when you log into Twitter.  We only need to print the text part of tweet. But there are other parts of a tweet we might be interested. "
   ]
  },
  {
   "cell_type": "markdown",
   "metadata": {
    "slideshow": {
     "slide_type": "slide"
    }
   },
   "source": [
    "Rather then just printing the text on screen, we would like to store them so that we can analyze later. "
   ]
  },
  {
   "cell_type": "markdown",
   "metadata": {
    "slideshow": {
     "slide_type": "slide"
    }
   },
   "source": [
    "# Network on Twitter\n",
    "- Users, their connections and interactions\n",
    "- Download a list of friends and followers\n",
    "- Measure influence and engagement\n",
    "- Analyze connections,\n",
    "- Clustering analysis\n",
    "- Dynamic maps"
   ]
  },
  {
   "cell_type": "markdown",
   "metadata": {
    "slideshow": {
     "slide_type": "slide"
    }
   },
   "source": [
    "[Twitter API](https://dev.twitter.com/rest/public) provides several endpoints to retrieve information about followers, friends and user profiles in general. "
   ]
  },
  {
   "cell_type": "code",
   "execution_count": null,
   "metadata": {
    "collapsed": true
   },
   "outputs": [],
   "source": []
  },
  {
   "cell_type": "markdown",
   "metadata": {
    "slideshow": {
     "slide_type": "slide"
    }
   },
   "source": [
    "- we can use endpoint users/show to get a single-user profile: given a screen name or user ID, the endpoint will retrieve the full profile for a user. \n",
    "- rate-limit, 180 requests in 15 minutes. The endpointi not suitable for batch downloads. "
   ]
  },
  {
   "cell_type": "markdown",
   "metadata": {
    "slideshow": {
     "slide_type": "slide"
    }
   },
   "source": [
    "- A list of followers for a given user can be retrived usingthe followers/list endpoint, implemented in  Tweepy with the API.followers() function.  \n",
    "\n",
    "- The friends/list endpoint allows retriveing the lit of friends for the given user, with the Tweepy implementation available as API.friends(). \n",
    "\n",
    "- rate limit: only 15 requersts in a 15-minute window, with each request providing up t0 20 user profiles. Totally 300 profiles every 15 minutes\n"
   ]
  },
  {
   "cell_type": "markdown",
   "metadata": {
    "slideshow": {
     "slide_type": "slide"
    }
   },
   "source": [
    "- workaround for this limit is based on a combination of other endpoints which are more suitable for big batches of data using followers/ids, which can return 5000 use IDs per request, but still 15 request per 15 minutes. With followers.ids endpoint, we only have the list of user IDs corresponding to the users' followers. But we do not have the complete profiles yet. \n",
    "- Then we can use user IDs as input for the users/lookup endpoint which takes 100 IDs as input. The rate limit is set to 180 per 15 minutes. which corresponds to 18000 profiles every 15 minutes. \n",
    "- Similarly, we can combine friends.ides and users/lookup endpoints. "
   ]
  },
  {
   "cell_type": "markdown",
   "metadata": {
    "slideshow": {
     "slide_type": "slide"
    }
   },
   "source": [
    "## The structure of a user profile"
   ]
  },
  {
   "cell_type": "markdown",
   "metadata": {
    "slideshow": {
     "slide_type": "slide"
    }
   },
   "source": [
    "   We can use the users/show endpoint with API.get_user()"
   ]
  },
  {
   "cell_type": "code",
   "execution_count": 8,
   "metadata": {
    "collapsed": true,
    "slideshow": {
     "slide_type": "slide"
    }
   },
   "outputs": [],
   "source": [
    "from twitter_one.userprofile import *"
   ]
  },
  {
   "cell_type": "code",
   "execution_count": 9,
   "metadata": {
    "slideshow": {
     "slide_type": "slide"
    }
   },
   "outputs": [
    {
     "name": "stdout",
     "output_type": "stream",
     "text": [
      "{\n",
      "    \"entities\": {\n",
      "        \"description\": {\n",
      "            \"urls\": []\n",
      "        }\n",
      "    },\n",
      "    \"name\": \"Tiger Wan\",\n",
      "    \"description\": \"learning and trading in high dimensional market\",\n",
      "    \"favourites_count\": 2,\n",
      "    \"time_zone\": null,\n",
      "    \"protected\": false,\n",
      "    \"profile_sidebar_fill_color\": \"DDEEF6\",\n",
      "    \"notifications\": false,\n",
      "    \"following\": false,\n",
      "    \"verified\": false,\n",
      "    \"followers_count\": 5,\n",
      "    \"id\": 85078098,\n",
      "    \"status\": {\n",
      "        \"entities\": {\n",
      "            \"user_mentions\": [\n",
      "                {\n",
      "                    \"screen_name\": \"realDonaldTrump\",\n",
      "                    \"id_str\": \"25073877\",\n",
      "                    \"name\": \"Donald J. Trump\",\n",
      "                    \"indices\": [\n",
      "                        3,\n",
      "                        19\n",
      "                    ],\n",
      "                    \"id\": 25073877\n",
      "                },\n",
      "                {\n",
      "                    \"screen_name\": \"oreillyfactor\",\n",
      "                    \"id_str\": \"50113613\",\n",
      "                    \"name\": \"Bill O'Reilly\",\n",
      "                    \"indices\": [\n",
      "                        36,\n",
      "                        50\n",
      "                    ],\n",
      "                    \"id\": 50113613\n",
      "                }\n",
      "            ],\n",
      "            \"symbols\": [],\n",
      "            \"hashtags\": [],\n",
      "            \"urls\": []\n",
      "        },\n",
      "        \"retweeted_status\": {\n",
      "            \"entities\": {\n",
      "                \"user_mentions\": [\n",
      "                    {\n",
      "                        \"screen_name\": \"oreillyfactor\",\n",
      "                        \"id_str\": \"50113613\",\n",
      "                        \"name\": \"Bill O'Reilly\",\n",
      "                        \"indices\": [\n",
      "                            15,\n",
      "                            29\n",
      "                        ],\n",
      "                        \"id\": 50113613\n",
      "                    }\n",
      "                ],\n",
      "                \"symbols\": [],\n",
      "                \"hashtags\": [],\n",
      "                \"urls\": []\n",
      "            },\n",
      "            \"contributors\": null,\n",
      "            \"in_reply_to_status_id\": null,\n",
      "            \"coordinates\": null,\n",
      "            \"truncated\": false,\n",
      "            \"retweet_count\": 11457,\n",
      "            \"id_str\": \"828039143318024194\",\n",
      "            \"retweeted\": true,\n",
      "            \"id\": 828039143318024194,\n",
      "            \"favorite_count\": 71632,\n",
      "            \"source\": \"<a href=\\\"http://twitter.com/download/android\\\" rel=\\\"nofollow\\\">Twitter for Android</a>\",\n",
      "            \"in_reply_to_screen_name\": null,\n",
      "            \"place\": null,\n",
      "            \"created_at\": \"Sun Feb 05 00:34:50 +0000 2017\",\n",
      "            \"in_reply_to_user_id_str\": null,\n",
      "            \"in_reply_to_user_id\": null,\n",
      "            \"lang\": \"en\",\n",
      "            \"favorited\": false,\n",
      "            \"in_reply_to_status_id_str\": null,\n",
      "            \"text\": \"Interview with @oreillyfactor on Fox Network - 4:00 P.M. (prior to Super Bowl). Enjoy!\",\n",
      "            \"geo\": null,\n",
      "            \"is_quote_status\": false\n",
      "        },\n",
      "        \"contributors\": null,\n",
      "        \"in_reply_to_status_id\": null,\n",
      "        \"coordinates\": null,\n",
      "        \"truncated\": false,\n",
      "        \"retweet_count\": 11457,\n",
      "        \"id_str\": \"828199837149515776\",\n",
      "        \"retweeted\": true,\n",
      "        \"id\": 828199837149515776,\n",
      "        \"favorite_count\": 0,\n",
      "        \"source\": \"<a href=\\\"http://twitter.com/download/iphone\\\" rel=\\\"nofollow\\\">Twitter for iPhone</a>\",\n",
      "        \"in_reply_to_screen_name\": null,\n",
      "        \"place\": null,\n",
      "        \"created_at\": \"Sun Feb 05 11:13:23 +0000 2017\",\n",
      "        \"in_reply_to_user_id_str\": null,\n",
      "        \"in_reply_to_user_id\": null,\n",
      "        \"lang\": \"en\",\n",
      "        \"favorited\": false,\n",
      "        \"in_reply_to_status_id_str\": null,\n",
      "        \"text\": \"RT @realDonaldTrump: Interview with @oreillyfactor on Fox Network - 4:00 P.M. (prior to Super Bowl). Enjoy!\",\n",
      "        \"geo\": null,\n",
      "        \"is_quote_status\": false\n",
      "    },\n",
      "    \"profile_image_url_https\": \"https://pbs.twimg.com/profile_images/830684595976753152/Sn3WIBm-_normal.jpg\",\n",
      "    \"translator_type\": \"none\",\n",
      "    \"suspended\": false,\n",
      "    \"created_at\": \"Sun Oct 25 13:16:33 +0000 2009\",\n",
      "    \"profile_background_tile\": false,\n",
      "    \"profile_use_background_image\": true,\n",
      "    \"default_profile_image\": false,\n",
      "    \"profile_image_url\": \"http://pbs.twimg.com/profile_images/830684595976753152/Sn3WIBm-_normal.jpg\",\n",
      "    \"default_profile\": true,\n",
      "    \"profile_background_color\": \"C0DEED\",\n",
      "    \"is_translation_enabled\": false,\n",
      "    \"statuses_count\": 5,\n",
      "    \"profile_location\": null,\n",
      "    \"friends_count\": 95,\n",
      "    \"needs_phone_verification\": false,\n",
      "    \"profile_background_image_url\": \"http://abs.twimg.com/images/themes/theme1/bg.png\",\n",
      "    \"contributors_enabled\": false,\n",
      "    \"lang\": \"en\",\n",
      "    \"geo_enabled\": false,\n",
      "    \"id_str\": \"85078098\",\n",
      "    \"location\": \"hong kong\",\n",
      "    \"has_extended_profile\": true,\n",
      "    \"profile_sidebar_border_color\": \"C0DEED\",\n",
      "    \"follow_request_sent\": false,\n",
      "    \"is_translator\": false,\n",
      "    \"profile_link_color\": \"1DA1F2\",\n",
      "    \"url\": null,\n",
      "    \"screen_name\": \"tigerwan2008\",\n",
      "    \"utc_offset\": null,\n",
      "    \"profile_background_image_url_https\": \"https://abs.twimg.com/images/themes/theme1/bg.png\",\n",
      "    \"listed_count\": 0,\n",
      "    \"profile_text_color\": \"333333\"\n",
      "}\n"
     ]
    }
   ],
   "source": [
    "printProfile(client, screen_name=\"tigerwan2008\") "
   ]
  },
  {
   "cell_type": "markdown",
   "metadata": {},
   "source": [
    "## Dowloading your friends' and followers profiles"
   ]
  },
  {
   "cell_type": "markdown",
   "metadata": {
    "slideshow": {
     "slide_type": "slide"
    }
   },
   "source": [
    "### Get followers for a user"
   ]
  },
  {
   "cell_type": "code",
   "execution_count": 12,
   "metadata": {
    "slideshow": {
     "slide_type": "slide"
    }
   },
   "outputs": [
    {
     "name": "stdout",
     "output_type": "stream",
     "text": [
      "More results available. Sleeping for 60 seconds to avoid rate limit\n",
      "More results available. Sleeping for 60 seconds to avoid rate limit\n",
      "More results available. Sleeping for 60 seconds to avoid rate limit\n"
     ]
    }
   ],
   "source": [
    "followers(client,\"tigerwan2008\")\n",
    "followers(client,\"PacktPub\")"
   ]
  },
  {
   "cell_type": "markdown",
   "metadata": {
    "slideshow": {
     "slide_type": "slide"
    }
   },
   "source": [
    "### Get friends for a given user"
   ]
  },
  {
   "cell_type": "code",
   "execution_count": 13,
   "metadata": {
    "collapsed": true,
    "slideshow": {
     "slide_type": "slide"
    }
   },
   "outputs": [],
   "source": [
    "friends(client,\"PacktPub\")\n",
    "friends(client,\"tigerwan2008\")"
   ]
  },
  {
   "cell_type": "markdown",
   "metadata": {
    "slideshow": {
     "slide_type": "slide"
    }
   },
   "source": [
    "## get user's profile"
   ]
  },
  {
   "cell_type": "code",
   "execution_count": 14,
   "metadata": {
    "collapsed": true,
    "slideshow": {
     "slide_type": "slide"
    }
   },
   "outputs": [],
   "source": [
    "userProfile(client,\"PacktPub\")\n",
    "userProfile(client,\"tigerwan2008\")"
   ]
  },
  {
   "cell_type": "code",
   "execution_count": null,
   "metadata": {
    "collapsed": true,
    "slideshow": {
     "slide_type": "slide"
    }
   },
   "outputs": [],
   "source": [
    "#printProfile(client,\"tigerwan2008\")"
   ]
  },
  {
   "cell_type": "markdown",
   "metadata": {
    "collapsed": true,
    "slideshow": {
     "slide_type": "slide"
    }
   },
   "source": [
    "## Analyzing your network"
   ]
  },
  {
   "cell_type": "markdown",
   "metadata": {
    "slideshow": {
     "slide_type": "slide"
    }
   },
   "source": [
    "   <img src=\"pic/network.jpg\">"
   ]
  },
  {
   "cell_type": "markdown",
   "metadata": {
    "slideshow": {
     "slide_type": "slide"
    }
   },
   "source": [
    "- Who are my mutual friends?\n",
    "- Who is not following me back?\n",
    "- Whom am I not following back?"
   ]
  },
  {
   "cell_type": "code",
   "execution_count": 16,
   "metadata": {
    "collapsed": true,
    "slideshow": {
     "slide_type": "slide"
    }
   },
   "outputs": [],
   "source": [
    "from twitter_one.followers_analysis import *"
   ]
  },
  {
   "cell_type": "code",
   "execution_count": 18,
   "metadata": {
    "slideshow": {
     "slide_type": "slide"
    }
   },
   "outputs": [
    {
     "name": "stdout",
     "output_type": "stream",
     "text": [
      "----- Timing -----\n",
      "Initialize data: 1.2561061382293701\n",
      "Set-based operations: 1.0113489627838135\n",
      "Total time: 2.2674551010131836\n",
      "PacktPub has 15000 followers\n",
      "PacktPub has 1164 friends\n",
      "PacktPub has 137 mutual friends\n",
      "1027 friends are not following PacktPub back\n",
      "14863 followers are not followed back by PacktPub\n"
     ]
    }
   ],
   "source": [
    "(followers, friends, mutual,fonotfo,frinotfol)=followers_count(\"PacktPub\")"
   ]
  },
  {
   "cell_type": "code",
   "execution_count": 20,
   "metadata": {},
   "outputs": [
    {
     "data": {
      "text/plain": [
       "['charlottejee',\n",
       " 'petebd',\n",
       " 'jeffbcross',\n",
       " 'victorsavkin',\n",
       " 'vfarcic',\n",
       " 'GirlsinTech',\n",
       " 'GirlsWhoCode',\n",
       " 'M_Tresemer',\n",
       " 'ivannofi',\n",
       " 'reis_pt',\n",
       " 'gulpjs',\n",
       " 'jinman',\n",
       " 'rohitbhute',\n",
       " 'Gavazyuk',\n",
       " 'w2ps',\n",
       " 'BiancaCreating',\n",
       " 'agelender',\n",
       " 'handy_kiev',\n",
       " 'Raychatter',\n",
       " 'hackernoon',\n",
       " 'inqspi',\n",
       " 'AngularJS_News',\n",
       " 'SmerFouad',\n",
       " '3_Beards',\n",
       " 'kisharichardson',\n",
       " 'chef',\n",
       " 'ExtremeTech',\n",
       " 'mikebutcher',\n",
       " 'steam_games',\n",
       " 'roxannevarza',\n",
       " 'rbanffy',\n",
       " 'randal_olson',\n",
       " 'kateconger',\n",
       " 'ApacheMesos',\n",
       " 'kubernetesio',\n",
       " 'rustlang',\n",
       " 'xiongtx',\n",
       " 'jszakmeister',\n",
       " 'jessysaurusrex',\n",
       " 'Unaitron',\n",
       " 'sam_dark',\n",
       " 'troyhunt',\n",
       " 'dez_blanchfield',\n",
       " 'UKFast',\n",
       " 'rachellejragasa',\n",
       " 'TechweekInc',\n",
       " 'Catapult_UK',\n",
       " 'taniarascia',\n",
       " 'DigiCatapult',\n",
       " 'RGCL_WLV',\n",
       " 'nathansmith',\n",
       " 'benfrain',\n",
       " 'twitterhadoop',\n",
       " 'WebSummit',\n",
       " 'TEDTalks',\n",
       " 'alexwilliams',\n",
       " 'thenewstack',\n",
       " 'theSchoolOfCode',\n",
       " 'alexadevs',\n",
       " 'icecrime',\n",
       " 'CIOMagazine',\n",
       " 'stil_de_viata',\n",
       " 'samwierema',\n",
       " 'WebDesignerMag',\n",
       " 'geekwire',\n",
       " 'ITProPortal',\n",
       " 'bartv',\n",
       " 'jeannehopkins',\n",
       " 'Designmodo',\n",
       " 'AWWWARDS',\n",
       " 'digitalocean',\n",
       " 'DockerCon',\n",
       " 'coreos',\n",
       " 'solomonstre',\n",
       " 'davemangot',\n",
       " 'CIOonline',\n",
       " 'lindseybieda',\n",
       " 'edent',\n",
       " 'contentful',\n",
       " 'pinaldave',\n",
       " 'jessfraz',\n",
       " 'planefinder',\n",
       " 'motherboard',\n",
       " 'derektmead',\n",
       " 'everydayelk',\n",
       " 'AntPachon',\n",
       " 'BrianCaravantes',\n",
       " 'Computerworld',\n",
       " 'annavitals',\n",
       " 'Julian_Paolo11',\n",
       " 'KateKendall',\n",
       " 'TechRepublic',\n",
       " 'ZDNet',\n",
       " 'sdtimes',\n",
       " 'msdevUK',\n",
       " 'timberners_lee',\n",
       " 'kvnwbbr',\n",
       " 'metasploit',\n",
       " 'BRUMMIE_PJ',\n",
       " 'willknight',\n",
       " 'openbionics',\n",
       " 'SimoneGiertz',\n",
       " 'TwitterEng',\n",
       " 'TwitterOSS',\n",
       " 'fbOpenSource',\n",
       " 'Airbnbdesign',\n",
       " 'bradlygreen',\n",
       " 'chrishwiggins',\n",
       " 'cloudera',\n",
       " 'MongoDB',\n",
       " 'arduino',\n",
       " 'JaneFriedman',\n",
       " 'jdcryans',\n",
       " 'mgechev',\n",
       " 'ellenhuet',\n",
       " 'loiane',\n",
       " 'Twitter',\n",
       " 'engadget',\n",
       " 'skilledup',\n",
       " 'HarvardBiz',\n",
       " 'joulee',\n",
       " 'CERN',\n",
       " 'karangoel',\n",
       " 'jkriss',\n",
       " 'InformationWeek',\n",
       " 'quinnnorton',\n",
       " 'DataScienceCtrl',\n",
       " 'devops',\n",
       " 'daedtech',\n",
       " 'hpnadig',\n",
       " 'sara_ann_marie',\n",
       " 'CaseyNewton',\n",
       " 'jeffbarr',\n",
       " 'gizmag',\n",
       " 'phonegap',\n",
       " 'newsycombinator',\n",
       " 'SketchUp',\n",
       " 'mashable',\n",
       " 'TheRegister',\n",
       " 'CodeClub',\n",
       " 'housecor',\n",
       " 'SiliconANGLE',\n",
       " 'paulmasonnews',\n",
       " 'freeCodeCamp',\n",
       " 'b0rk',\n",
       " 'Recode',\n",
       " 'oculus',\n",
       " 'gamasutra',\n",
       " 'udacity',\n",
       " 'Medium',\n",
       " 'scalding',\n",
       " 'kirstystyles1',\n",
       " 'hortonworks',\n",
       " 'xamarinhq',\n",
       " 'openhandproject',\n",
       " 'DataWorksSummit',\n",
       " 'pcworld',\n",
       " 'PaulCunningham',\n",
       " 'qlik',\n",
       " 'gallamine',\n",
       " 'tableau',\n",
       " 'saniyusuf',\n",
       " 'RosenfeldMedia',\n",
       " 'NautilusMag',\n",
       " 'martinfowler',\n",
       " 'spolsky',\n",
       " 'dhh',\n",
       " 'codinghorror',\n",
       " 'philipcolligan',\n",
       " 'TheNextWeb',\n",
       " 'RubyOnRRails',\n",
       " 'AirbnbEng',\n",
       " 'verge',\n",
       " 'VentureBeat',\n",
       " 'Gizmodo',\n",
       " 'guardiantech',\n",
       " 'TechCrunch',\n",
       " 'techreview',\n",
       " 'medialab',\n",
       " 'InfoQ',\n",
       " 'bseymour',\n",
       " 'googledevs',\n",
       " 'Android',\n",
       " 'AndroidDev',\n",
       " 'CreativeBloq',\n",
       " 'violetblue',\n",
       " 'simonmonk2',\n",
       " 'nostarch',\n",
       " 'meteorjs',\n",
       " 'AWSstartups',\n",
       " 'CloudStack',\n",
       " 'awscloud',\n",
       " 'Rackspace',\n",
       " 'OpenStack',\n",
       " 'Ionicframework',\n",
       " 'reactjs',\n",
       " 'angular',\n",
       " 'codeorg',\n",
       " 'opensourceway',\n",
       " 'mbanzi',\n",
       " 'rauschma',\n",
       " 'GregData',\n",
       " 'neo4j',\n",
       " 'kdnuggets',\n",
       " 'WomenWhoCode',\n",
       " 'pyladies',\n",
       " 'python_devv',\n",
       " 'SciPyTip',\n",
       " 'PythonWeekly',\n",
       " 'ThePSF',\n",
       " 'Raspberry_Pi',\n",
       " 'PantheonBooks',\n",
       " 'vCloudernBeer',\n",
       " 'NorSoulx',\n",
       " 'PacktSALEEM',\n",
       " 'Scobleizer',\n",
       " 'LoveBrumUK',\n",
       " 'simplymeasured',\n",
       " 'MarsCuriosity',\n",
       " 'itarchitectkev',\n",
       " 'FluentConf',\n",
       " 'JavaFXpert',\n",
       " 'Java_EE',\n",
       " 'JonathanPeppers',\n",
       " 'nodejs',\n",
       " 'getbootstrap',\n",
       " 'malhoit',\n",
       " 'jandbeyond',\n",
       " 'D_Programming',\n",
       " 'ForDummies',\n",
       " 'aaronkropf',\n",
       " 'syngress',\n",
       " 'hackaday',\n",
       " 'instructables',\n",
       " 'Morgan_Kaufmann',\n",
       " 'make',\n",
       " 'rstudio',\n",
       " 'tosbourn',\n",
       " 'sitecake',\n",
       " 'scottgu',\n",
       " 'SignalR',\n",
       " 'shanselman',\n",
       " 'EdwardCGordon',\n",
       " 'davemaclean',\n",
       " 'cody_bunch',\n",
       " 'AndyWigz',\n",
       " 'alvinashcraft',\n",
       " 'ManningBooks',\n",
       " 'WileyTech',\n",
       " 'LondonBookFair',\n",
       " 'steve228uk',\n",
       " 'adityapatawari',\n",
       " 'nash_aaron',\n",
       " 'phase2',\n",
       " 'INQ',\n",
       " 'technewsworld',\n",
       " 'leesheppard',\n",
       " 'sgmansfield',\n",
       " 'sjaffarhussain',\n",
       " 'STEVENELLIOT',\n",
       " 'talhakabakus',\n",
       " 'andifalk',\n",
       " 'RichardSmedley',\n",
       " 'ichilton',\n",
       " 'mvzoest',\n",
       " 'suzecampbell',\n",
       " 'hakmem',\n",
       " 'billtrippe',\n",
       " 'Adaptavist',\n",
       " 'WykenSeagrave',\n",
       " 'trephann',\n",
       " 'cspruck',\n",
       " 'rajeshpillai',\n",
       " 'igmuska',\n",
       " 'tuxtor',\n",
       " 'SoulFireMage',\n",
       " 'GiantMike',\n",
       " 'david_erosa',\n",
       " 'kcunning',\n",
       " 'dominiquemobica',\n",
       " 'ruli12Cuesta',\n",
       " 'hershell007',\n",
       " 'NicolasGUTOWSKI',\n",
       " 'sandip846',\n",
       " 'GilbertRivera6',\n",
       " 'jvandemo',\n",
       " 'cironunesdev',\n",
       " 'raularabaolaza',\n",
       " 'jm2dev',\n",
       " 'AysSomething',\n",
       " 'dhavelin',\n",
       " 'abaddon_gtz',\n",
       " 'skamdeno',\n",
       " 'kdarty',\n",
       " 'kevinhorek',\n",
       " 'spietrek',\n",
       " 'jihchi',\n",
       " 'BruceGoewey',\n",
       " 'CFantarella',\n",
       " 'Lane_Max',\n",
       " 'AppLoud',\n",
       " 'Server_Haven',\n",
       " 'Kr1st0ph3r_P',\n",
       " 'Red_Tentacle',\n",
       " 'draulon',\n",
       " 'Web3DCommunity',\n",
       " '_ArchBang',\n",
       " 'aperisolutions',\n",
       " 'RealMSHB',\n",
       " 'createdisciple',\n",
       " '_get_sandre',\n",
       " 'WackyBot',\n",
       " 'b_dawson1993',\n",
       " 'ShadowReapper',\n",
       " 'G3zar',\n",
       " 'KoiAbarca',\n",
       " 'BitGem3d',\n",
       " 'BlackOliveGames',\n",
       " 'IndieGamesGT',\n",
       " 'spiderkeygames',\n",
       " 'DankoKozar',\n",
       " 'GibbonWhispers',\n",
       " 'joloml',\n",
       " 'MSchwertel',\n",
       " 'Dawson_Leff',\n",
       " 'careuno',\n",
       " 'LogieTweet',\n",
       " 'GillisLLC',\n",
       " 'SergeantG_',\n",
       " 'jasx15',\n",
       " 'tompenny1aop',\n",
       " 'matttylr',\n",
       " 'sausjord',\n",
       " '_GGhh_',\n",
       " 'gKillilea11',\n",
       " 'jroa3000',\n",
       " 'GameViewPoint',\n",
       " 'DG_Ed',\n",
       " 'imavomisaina',\n",
       " 'StroiTec',\n",
       " 'Alan_OToole',\n",
       " 'diegoIoMe',\n",
       " 'phildobbin',\n",
       " 'JammesAvila',\n",
       " 'JesseJoudrey',\n",
       " 'FrenchCinema4D',\n",
       " 'cassvas78',\n",
       " 'franco__l',\n",
       " 'jmp_imaginarium',\n",
       " 'DameanDaemon',\n",
       " 'davidfarndt',\n",
       " 'MartinChristen',\n",
       " 'UmusuIruo',\n",
       " 'lovebuggames',\n",
       " 'fjmedinal',\n",
       " 'btriordan',\n",
       " 'The_BenMears',\n",
       " 'donbennyfranco',\n",
       " 'sdeancos',\n",
       " 'PixelBean',\n",
       " 'serafincpd',\n",
       " 'ElbowRoomApps',\n",
       " 'MalboMX',\n",
       " 'smart_associate',\n",
       " '_James_Jones_',\n",
       " 'DigitalBelfast',\n",
       " 'schooltoons',\n",
       " 'ZeusITCamp',\n",
       " 'dangerdengr',\n",
       " 'AmplifyCreates',\n",
       " 'jorgeguberte',\n",
       " 'eplusgames',\n",
       " 'klaasnienhuis',\n",
       " 'mhd_almonajed',\n",
       " 'flauchersfinest',\n",
       " 'GCodergr',\n",
       " 'ali_oguzhan',\n",
       " 'ericdaily',\n",
       " 'obturonius',\n",
       " 'dookeybre',\n",
       " 'cywilll',\n",
       " 'luciano_mena',\n",
       " 'wwwrgh',\n",
       " 'txandy01',\n",
       " 'solettistudios',\n",
       " 'cadastreng',\n",
       " 'iDavidDeSmet',\n",
       " 'jspdjanggo',\n",
       " 'cgermanfs',\n",
       " 'motec_data',\n",
       " 'cybercanibal',\n",
       " 'changamistic',\n",
       " 'doluiscontreras',\n",
       " 'BaneAndjelkovic',\n",
       " 'AlbertAAlfaro',\n",
       " 'SecStronghold',\n",
       " 'XulesRun',\n",
       " 'mattxgleeson',\n",
       " 'IndieDevDad',\n",
       " 'ooze_hack',\n",
       " 'Gallardo4Code',\n",
       " 'iaroussi',\n",
       " 'JoeTechnology',\n",
       " 'alexandermikuta',\n",
       " 'vjcorr',\n",
       " 'DavidKamunyu',\n",
       " 'GeoCensos',\n",
       " '_superalex_',\n",
       " 'bf0wle',\n",
       " 'runtux',\n",
       " 'AfterDarkStudio',\n",
       " 'maraspin',\n",
       " 'AppIt_Ventures',\n",
       " 'Ars_Dementis',\n",
       " 'spectrumgomas',\n",
       " 'SchmitzIT',\n",
       " 'dorianjohannink',\n",
       " 'LamargoL',\n",
       " 'Cybershead',\n",
       " 'byLesThomas',\n",
       " 'UltimodelaFila',\n",
       " 'cesardelfinr',\n",
       " 'jorgeas80',\n",
       " 'rider_pie',\n",
       " 'FlorisGroen',\n",
       " 'ccaballero08',\n",
       " 'DataChomp',\n",
       " 'robypost',\n",
       " 'xinoHITO',\n",
       " 'vahid_r',\n",
       " 'iv3unm',\n",
       " 'AnaliesseTarre',\n",
       " 'Bizonia',\n",
       " 'debop68',\n",
       " 'cogspa',\n",
       " 'IgnacioRuizMX',\n",
       " 'fxbayuraharjo',\n",
       " 'wolufsen',\n",
       " 'fassolas',\n",
       " 'st1ckman67',\n",
       " 'S_Lienemann',\n",
       " 'and_yarysh',\n",
       " 'ingmmurillo',\n",
       " 'BendikStang',\n",
       " 'datastill',\n",
       " 'danielkim3d',\n",
       " 'AvneeNathani',\n",
       " 'nestel34',\n",
       " '_bulgroz',\n",
       " 'mhernandezve',\n",
       " 'JonyRidel',\n",
       " 'saschild',\n",
       " 'marouane53',\n",
       " 'aaloy',\n",
       " 'SaltwaterAssem',\n",
       " 'real7a',\n",
       " 'daevox',\n",
       " 'dalmosantos',\n",
       " 'JaimeYesidLeon',\n",
       " 'madi468',\n",
       " 'gisce',\n",
       " 'hoeadrian',\n",
       " 'adnxnow',\n",
       " 'nimolix',\n",
       " 'marcobahn',\n",
       " 'jvanwerkhoven',\n",
       " 'wilei',\n",
       " 'SamarAltarteer',\n",
       " 'rvbsamael',\n",
       " 'iamben_tw',\n",
       " 'carlaoca',\n",
       " 'saorog',\n",
       " 'karisewer',\n",
       " 'iwangbin',\n",
       " 'harrijauri',\n",
       " 'youngwookim',\n",
       " 'MHvorostovsky',\n",
       " 'hee_sun',\n",
       " 'overdrive3000',\n",
       " 'christianbeil',\n",
       " 'monomanbr',\n",
       " 'selzero',\n",
       " '_seraph1',\n",
       " 'ahaykal',\n",
       " 'HersonCruz',\n",
       " 'Euden',\n",
       " 'FreekstormUK',\n",
       " 'gerardogc2378',\n",
       " '_samqiu',\n",
       " 'wbtowa',\n",
       " 'happah',\n",
       " 'jmquin',\n",
       " 'sscotty71',\n",
       " 'MytyMyky',\n",
       " 'vischmidt',\n",
       " 'mssqltips',\n",
       " 'justinlloyd',\n",
       " 'richgizmo',\n",
       " 'JibbSmart',\n",
       " 'mephysto666',\n",
       " 'johnny5tw',\n",
       " 'yeysus',\n",
       " 'polygrafix',\n",
       " 'willgoldstone',\n",
       " 'safehell',\n",
       " 'Carnefrisca',\n",
       " 'jewzeus',\n",
       " 'anler',\n",
       " 'hckhckhck',\n",
       " 'dwightwalker',\n",
       " 'bartdag',\n",
       " 'klunkySQL',\n",
       " 'shlomif',\n",
       " 'rbisso',\n",
       " 'henniedev',\n",
       " 'billrobo',\n",
       " 'pac0666999',\n",
       " 'JacF',\n",
       " 'billblum',\n",
       " 'phime',\n",
       " 'carlos_olivera',\n",
       " 'darkmobius',\n",
       " 'agentcox',\n",
       " 'alsimoes',\n",
       " 'thedavil',\n",
       " 'bertelmonster2k',\n",
       " 'tinokun',\n",
       " 'TravezRipley',\n",
       " 'paulbilan',\n",
       " 'varomix',\n",
       " 'RedVonix',\n",
       " 'chiefspace',\n",
       " 'chris_ramsay',\n",
       " 'cassiomarques',\n",
       " 'ecarreras',\n",
       " 'dannymacny',\n",
       " 'bdesmet_',\n",
       " 'bcharder',\n",
       " 'KasperTidemann',\n",
       " 'tflynn_dev',\n",
       " 'Bbopen',\n",
       " 'phenobarbital',\n",
       " 'kevin_t_hill',\n",
       " 'jhaile',\n",
       " 'rickytato',\n",
       " 'derpapst',\n",
       " 'mapologo',\n",
       " 'TheSteve0',\n",
       " 'Kedare',\n",
       " 'radiocats',\n",
       " 'kasa_zip',\n",
       " 'falko',\n",
       " 'urkonn',\n",
       " 'semsimty',\n",
       " 'DonClip5',\n",
       " 'Nandini10340340',\n",
       " 'foreverfever',\n",
       " 'NeotericWorks',\n",
       " 'theholdinvestor',\n",
       " 'alalwan003',\n",
       " 'LazarCristiana1',\n",
       " 'SKSMediaBahrain',\n",
       " 'Supernatural_Wh',\n",
       " 'crochetyknits',\n",
       " 'kashif_110773',\n",
       " 'elburdel24',\n",
       " 'ABKTKL',\n",
       " 'DeniizLeonor',\n",
       " 'nehalhassan_',\n",
       " 'Cloudy_1979',\n",
       " 'ColeSeyeAdebayo',\n",
       " 'durovis',\n",
       " 'TvvitterCliff',\n",
       " 'Car_losEn',\n",
       " 'galantinodesign',\n",
       " 'DCSubhajit',\n",
       " 'kystew237',\n",
       " 'JazmaeBass',\n",
       " 'nvoronchikhin',\n",
       " 'CarLos_DtSiB22',\n",
       " 'MurliMLohia',\n",
       " 'ITXDesign',\n",
       " 'yomimalik1D',\n",
       " 'PriszCuthbert',\n",
       " 'delenne_r',\n",
       " 'SuiteTraining',\n",
       " 'pan00771',\n",
       " 'Cathy4003Cathy',\n",
       " 'WmKiesel',\n",
       " 'nblynch',\n",
       " 'Nico_Vassallo',\n",
       " 'Senthil99T',\n",
       " 'freemavens',\n",
       " 'DAgostinoRachel',\n",
       " 'Dr_A4DiL',\n",
       " 'albertspijkers',\n",
       " 'DiianithaMeza',\n",
       " 'AnissaLallemand',\n",
       " 'grillo_federico',\n",
       " 'MiguelVegaLizan',\n",
       " 'MarcusDrost',\n",
       " 'hervmention',\n",
       " 'luigicampos',\n",
       " 'KFSND',\n",
       " '37thKingswood',\n",
       " 'JacksonUzcatgui',\n",
       " 'borderphoenix',\n",
       " 'DoGood1today',\n",
       " 'PackLighter',\n",
       " 'l1dge',\n",
       " 'daxvyas18',\n",
       " '__Quependejada',\n",
       " 'mdwinner',\n",
       " 'monnesp',\n",
       " 'scyasig',\n",
       " 'cathywalker3',\n",
       " 'zarabotokdoma',\n",
       " 'slara9',\n",
       " 'gemnahmewzik',\n",
       " 'seelin69',\n",
       " 'unmecquicode',\n",
       " 'IMA_Houston',\n",
       " 'rricardo62363',\n",
       " 'luis_c_reyes',\n",
       " 'TheRealGooner',\n",
       " 'danishhassan88',\n",
       " 'warren_eiserman',\n",
       " 'SeidoKevin',\n",
       " 'LoganRSpangler',\n",
       " 'elainadonofrio',\n",
       " 'ChDeLong',\n",
       " 'iQuoteXpress',\n",
       " 'arj_33',\n",
       " '4ThoughtM',\n",
       " 'Msbayari',\n",
       " 'lmavarez',\n",
       " 'rechano',\n",
       " 'williamhardys',\n",
       " 'MidsizeWiki',\n",
       " 'apmichaelis',\n",
       " 'vlady1000',\n",
       " 'Pacortega',\n",
       " 'Wilson_Seven',\n",
       " 'Oplyta_83',\n",
       " 'raf_developer',\n",
       " 'ASASLosAngeles',\n",
       " 'karlmartineau',\n",
       " 'tweetsBS',\n",
       " 'JCesar_Paz',\n",
       " 'icyneil',\n",
       " 'Janice234',\n",
       " '24Notion',\n",
       " 'Idanah',\n",
       " 'CATAAlliance',\n",
       " 'danmascena',\n",
       " 'systemstrategy',\n",
       " 'AJFooster',\n",
       " 'ignorethenorms',\n",
       " 'johnjambrose',\n",
       " 'CoachLynneB',\n",
       " 'montemayer',\n",
       " 'benprusinski',\n",
       " 'mdcunha',\n",
       " 'dan_pepper',\n",
       " 'soluciones2000',\n",
       " 'choran',\n",
       " 'PeterHebly',\n",
       " 'rksinglemalt',\n",
       " 'cfont',\n",
       " 'derekgardiner',\n",
       " 'FMTSystems',\n",
       " 'rajasekarn',\n",
       " 'williamlennon',\n",
       " 'GetProsiliency',\n",
       " 'LouisColumbus',\n",
       " 'surachart',\n",
       " 'fuadar',\n",
       " 'raol_jaydipsinh',\n",
       " 'JARP80',\n",
       " 'James_Stiehl',\n",
       " 'qiangbro0527',\n",
       " 'GeekDummy',\n",
       " 'ndrunix',\n",
       " 'vayryant',\n",
       " 'arielpartners',\n",
       " 'HackReactor',\n",
       " 'Daniel_Leibold',\n",
       " 'seantunwin',\n",
       " 'CamposRunner80',\n",
       " 'its_mohzak',\n",
       " 'Mike_Digitize',\n",
       " 'punit07m',\n",
       " 'T_Dnzt',\n",
       " 'giuscat',\n",
       " 'renaudin_yann',\n",
       " 'Mizak926',\n",
       " 'PocketObjects',\n",
       " 'matthiasnehlsen',\n",
       " 'practice_xyz',\n",
       " 'vassilisterzo',\n",
       " 'GergoB',\n",
       " 'DavidRessler',\n",
       " 'Twittefer',\n",
       " 'kreyssel',\n",
       " 'newaeonweb',\n",
       " 'MohamedFawzy_',\n",
       " 'kenfinnigan',\n",
       " 'praveenscience',\n",
       " 'QuanTechResume',\n",
       " 'chillijay',\n",
       " 'guillermosnipe',\n",
       " 'm4t1t0',\n",
       " 'mehdi_mousavi',\n",
       " 'DimitriosVas',\n",
       " 'HBCompass',\n",
       " 'pinkyBrayne',\n",
       " 'jfloppy',\n",
       " 'MattWildman',\n",
       " 'simeonwillbanks',\n",
       " 'shidhincr',\n",
       " 'developerluke',\n",
       " 'juanjofg',\n",
       " 'drlinux_',\n",
       " 'antongribanov',\n",
       " 'russomi',\n",
       " 'davidkruger',\n",
       " 'jennifermapple',\n",
       " 'itsgs',\n",
       " 'dujsu',\n",
       " 'jasdeepsingh',\n",
       " 'ingorammer',\n",
       " 'zmilan',\n",
       " 'sbglasius',\n",
       " 'billgloff',\n",
       " 'roieki',\n",
       " 'bobchesley',\n",
       " 'yveson33',\n",
       " 'basarat',\n",
       " 'rob_balfre',\n",
       " 'sulutas81',\n",
       " 'simonholmes',\n",
       " 'naterockhold',\n",
       " 'DavideZordan',\n",
       " 'jherritz',\n",
       " 'ngnewsletter',\n",
       " 'jackfiallos',\n",
       " 'victorzamfir',\n",
       " 'codylindley',\n",
       " 'toddwprice',\n",
       " 'dadepo',\n",
       " 'luisfarzati',\n",
       " 'brianpiercy',\n",
       " 'mervinej',\n",
       " 'moellenbeck',\n",
       " 'freeswitch',\n",
       " 'CommerceGuys',\n",
       " 'mapagella',\n",
       " 'TheChrisRoss_',\n",
       " 'MsMigot',\n",
       " 'Goodkindles',\n",
       " 'Kelsye',\n",
       " 'taswarbhatti',\n",
       " 'jitendravyas',\n",
       " 'markstanislav',\n",
       " 'rickzanotti',\n",
       " 'anotherlab',\n",
       " 'mekline',\n",
       " 'jjrmilner',\n",
       " 'KamranAgayev',\n",
       " 'adjsays',\n",
       " 'Arm1nE',\n",
       " 'siavash',\n",
       " 'TheNephalim',\n",
       " 'colinmadland',\n",
       " 'akgmag',\n",
       " 'paulusm',\n",
       " 'charltonweb',\n",
       " 'bookpr',\n",
       " 'usejquery',\n",
       " 'wmurphy',\n",
       " 'mck66',\n",
       " 'joomlablogger',\n",
       " 'ericdrowell',\n",
       " 'cajun_code',\n",
       " 'MennoPP',\n",
       " 'FDeitelhoff',\n",
       " 'DaanBakboord',\n",
       " 'kellygweaver',\n",
       " 'capooti',\n",
       " 'javier_fazouro',\n",
       " 'DynamicsSWpros',\n",
       " 'SuddenLunch',\n",
       " 'fernandofaci',\n",
       " 'neilbu',\n",
       " 'moodlenews',\n",
       " 'onesterov',\n",
       " 'thomascastel',\n",
       " 'ShoestringBookP',\n",
       " 'SyrianDeveloper',\n",
       " 'jomonjohnn',\n",
       " 'websesame',\n",
       " 'josemanners',\n",
       " 'tomschenkjr',\n",
       " 'JohanvdBrink',\n",
       " 'jhbrogdenjr',\n",
       " 'TsendeeMTS',\n",
       " 'helladyo',\n",
       " 'utpress',\n",
       " 'utaladriz',\n",
       " 'SchaeferRob',\n",
       " 'christilford',\n",
       " 'ictedservices',\n",
       " 'PatBookworm',\n",
       " 'Raven67854',\n",
       " 'jalvarezhuete',\n",
       " 'danmurf',\n",
       " 'ensode',\n",
       " 'ijoomla',\n",
       " 'UKOUG',\n",
       " 'arduinobook',\n",
       " 'kree8_i',\n",
       " 'devhrmx',\n",
       " 'kalinchernev',\n",
       " 'OmarAlAmoudi',\n",
       " 'CPOEVENT',\n",
       " 'bobbalfe',\n",
       " 'javaHelena',\n",
       " 'rwenderlich',\n",
       " 'IDispose',\n",
       " '02Geek',\n",
       " 'slashdot',\n",
       " 'tomy_koch',\n",
       " 'phpclasses',\n",
       " 'php_net',\n",
       " 'github',\n",
       " 'JavaScriptDaily',\n",
       " 'acquia',\n",
       " 'PrograLanguages',\n",
       " 'OracleDatabase',\n",
       " 'Oracle',\n",
       " 'oracleopenworld',\n",
       " 'MSFTnews',\n",
       " 'JoeZimJS',\n",
       " 'arstechnica',\n",
       " 'androids',\n",
       " 'Kartikeypan',\n",
       " 'CNET',\n",
       " 'gigaom',\n",
       " 'ForbesTech',\n",
       " 'CNETNews',\n",
       " 'jamessun',\n",
       " 'Windows',\n",
       " 'sandipb',\n",
       " 'ibm_in',\n",
       " 'ten_six',\n",
       " 'securityorb',\n",
       " 'Pentaho_Fan',\n",
       " 'AndrewDuck_',\n",
       " 'farriss',\n",
       " 'tutsplus',\n",
       " 'MobileJoomla',\n",
       " 'JoomlaTips',\n",
       " 'dabeaz',\n",
       " 'raymondh',\n",
       " 'etrepum',\n",
       " 'DrupalAssoc',\n",
       " 'joomla',\n",
       " 'stevenjwilding',\n",
       " 'TornadoTwins',\n",
       " 'coderanch',\n",
       " 'wrox',\n",
       " 'the_jsf',\n",
       " 'JohnAlbin',\n",
       " 'mortendk',\n",
       " 'ellismads',\n",
       " 'webmink',\n",
       " 'pann1x',\n",
       " 'Neurotic',\n",
       " 'BBCClick',\n",
       " 'BillGates',\n",
       " 'jancavan',\n",
       " 'sixrevisions',\n",
       " 'webchick',\n",
       " 'timoreilly',\n",
       " 'rthrash',\n",
       " 'jredding',\n",
       " 'moodlehelen',\n",
       " 'WordPress',\n",
       " 'royrubin05',\n",
       " 'speckyboy',\n",
       " 'adamliptrot',\n",
       " 'manuellemos',\n",
       " 'suechastain',\n",
       " 'mgkimsal',\n",
       " 'socpub',\n",
       " 'galoppini',\n",
       " 'misaelnieto_a',\n",
       " 'TechEd_NA',\n",
       " 'magento',\n",
       " 'edtoh',\n",
       " 'mashabletech',\n",
       " 'News_MySQL',\n",
       " 'roblb',\n",
       " 'opensourcerer',\n",
       " 'Sencha',\n",
       " 'mwessendorf',\n",
       " 'TheASF',\n",
       " 'packtauthors',\n",
       " 'Jaspersoft',\n",
       " 'robertcastelo',\n",
       " 'mwop',\n",
       " 'zeevs',\n",
       " 'darrenwaters',\n",
       " 'goodreads',\n",
       " 'OpenX',\n",
       " 'cozimek',\n",
       " 'SteveJBurge',\n",
       " 'digizen',\n",
       " 'dripsandcastle',\n",
       " 'degsy',\n",
       " 'sitepointdotcom',\n",
       " 'tgkrause',\n",
       " 'snoopdave',\n",
       " 'netzzwerg',\n",
       " 'boblet',\n",
       " 'bobbie',\n",
       " 'davidlink',\n",
       " 'flaviocopes',\n",
       " 'moodlerific',\n",
       " 'srpsco',\n",
       " 'SixDegreesPGH',\n",
       " 'peacockcarter',\n",
       " 'takanory',\n",
       " 'salaboy',\n",
       " 'abdulkhan',\n",
       " 'PHPUKConference',\n",
       " 'wifelette',\n",
       " 'fredwu',\n",
       " 'osbridge',\n",
       " 'plone',\n",
       " 'Mrgareth',\n",
       " 'NixiePixel',\n",
       " 'RyanBickett',\n",
       " 'typo3',\n",
       " 'culturalelite',\n",
       " 'poleydee',\n",
       " 'ryanhavoc',\n",
       " 'boagworld',\n",
       " 'lloydi',\n",
       " 'timwhitlock',\n",
       " 'otterball',\n",
       " 'castig',\n",
       " 'charpolanosky',\n",
       " 'smashingmag',\n",
       " 'bitnami',\n",
       " 'hashtags',\n",
       " 'moodle',\n",
       " 'limi',\n",
       " 'onambiguity',\n",
       " 'envisionUK',\n",
       " 'Joomla_news',\n",
       " 'georgiawebgurl',\n",
       " 'cmscritic',\n",
       " 'unity3d',\n",
       " 'dweiums',\n",
       " 'sdh100Shaun',\n",
       " 'drupalcon',\n",
       " 'AppDevEd',\n",
       " 'safari',\n",
       " 'iPublishCentral',\n",
       " 'wynlim',\n",
       " 'bdsexton',\n",
       " 'thebookseller',\n",
       " 'linux_pro',\n",
       " 'brucemorrison',\n",
       " 'netmag',\n",
       " 'APACllc',\n",
       " 'publishingtalk',\n",
       " 'chriswebb',\n",
       " 'dkbooks',\n",
       " 'RichardAllen923',\n",
       " 'jackschofield',\n",
       " 'jemimakiss',\n",
       " 'keirwhitaker',\n",
       " 'davidmolliere',\n",
       " 'hexsprite',\n",
       " 'JBoss',\n",
       " 'aclark4life',\n",
       " 'Gachatz',\n",
       " 'Google',\n",
       " 'garysims',\n",
       " 'AdamWoodyatt',\n",
       " 'TutsPlusCode',\n",
       " 'hagengraf',\n",
       " 'mattcutts',\n",
       " 'bookpleasures',\n",
       " 'technosophos',\n",
       " 'dstrawberrygirl',\n",
       " 'brenelz',\n",
       " 'einsteinsboi',\n",
       " ...]"
      ]
     },
     "execution_count": 20,
     "metadata": {},
     "output_type": "execute_result"
    }
   ],
   "source": [
    "frinotfol"
   ]
  },
  {
   "cell_type": "code",
   "execution_count": null,
   "metadata": {
    "collapsed": true,
    "slideshow": {
     "slide_type": "slide"
    }
   },
   "outputs": [],
   "source": [
    "(followers1, friends1, mutual1,fonotfo1,frinotfol1)=followers_count(\"tigerwan2008\")"
   ]
  },
  {
   "cell_type": "code",
   "execution_count": null,
   "metadata": {
    "collapsed": true,
    "slideshow": {
     "slide_type": "slide"
    }
   },
   "outputs": [],
   "source": [
    "(followers, friends, mutual,fonotfo,frinotfol)=followers_count2(\"PacktPub\")"
   ]
  },
  {
   "cell_type": "markdown",
   "metadata": {
    "slideshow": {
     "slide_type": "slide"
    }
   },
   "source": [
    "## Find import user- influencer"
   ]
  },
  {
   "cell_type": "markdown",
   "metadata": {
    "slideshow": {
     "slide_type": "slide"
    }
   },
   "source": [
    "- influencer marketing targets key individuals rather than the market as a whole "
   ]
  },
  {
   "cell_type": "markdown",
   "metadata": {
    "slideshow": {
     "slide_type": "slide"
    }
   },
   "source": [
    "- user engagement: assessment of the response to a particular offer, such as a product or service.  In twitter, \"retweeting\" or \"liking\" a particular tweet. "
   ]
  },
  {
   "cell_type": "markdown",
   "metadata": {
    "slideshow": {
     "slide_type": "slide"
    }
   },
   "source": [
    "### More followers, more influence?"
   ]
  },
  {
   "cell_type": "code",
   "execution_count": 22,
   "metadata": {
    "collapsed": true,
    "slideshow": {
     "slide_type": "slide"
    }
   },
   "outputs": [],
   "source": [
    "from twitter_one.userinfluence import *\n",
    "(followers1,tweets1,favorite_count1,retweet_count1,reach1)=userReach('tigerwan2008')"
   ]
  },
  {
   "cell_type": "code",
   "execution_count": 23,
   "metadata": {},
   "outputs": [
    {
     "name": "stdout",
     "output_type": "stream",
     "text": [
      "5\n",
      "5\n",
      "[0, 0, 2, 0, 2]\n",
      "[11457, 0, 0, 0, 0]\n"
     ]
    }
   ],
   "source": [
    "print(followers1)\n",
    "print(tweets1)\n",
    "print(favorite_count1)\n",
    "print(retweet_count1)"
   ]
  },
  {
   "cell_type": "code",
   "execution_count": 24,
   "metadata": {
    "collapsed": true,
    "slideshow": {
     "slide_type": "slide"
    }
   },
   "outputs": [],
   "source": [
    "(followers2,tweets2,favorite_count2,retweet_count2,reach2)=userReach('PacktPub')"
   ]
  },
  {
   "cell_type": "code",
   "execution_count": 25,
   "metadata": {
    "slideshow": {
     "slide_type": "slide"
    }
   },
   "outputs": [
    {
     "name": "stdout",
     "output_type": "stream",
     "text": [
      "----- Stats tigerwan2008 -----\n",
      "5 followers\n",
      "12485 users reached by 1-degree connections\n",
      "Average number of followers for tigerwan2008's followers: 2497.0\n",
      "Favorited 4 times (0.8 per tweet, 0.8 per user)\n",
      "Retweeted 11457 times (2291.4 per tweet, 2291.4 per user)\n"
     ]
    }
   ],
   "source": [
    "influenceStat(\"tigerwan2008\", followers1,tweets1,favorite_count1,\n",
    "              retweet_count1,reach1)"
   ]
  },
  {
   "cell_type": "code",
   "execution_count": 26,
   "metadata": {
    "slideshow": {
     "slide_type": "slide"
    }
   },
   "outputs": [
    {
     "name": "stdout",
     "output_type": "stream",
     "text": [
      "----- Stats PacktPub -----\n",
      "20048 followers\n",
      "27488783 users reached by 1-degree connections\n",
      "Average number of followers for PacktPub's followers: 1371.15\n",
      "Favorited 12710 times (0.72 per tweet, 0.63 per user)\n",
      "Retweeted 230095 times (13.04 per tweet, 11.48 per user)\n"
     ]
    }
   ],
   "source": [
    "influenceStat(\"PacktPub\", followers2,tweets2,favorite_count2,\n",
    "              retweet_count2,reach2)"
   ]
  },
  {
   "cell_type": "markdown",
   "metadata": {
    "slideshow": {
     "slide_type": "slide"
    }
   },
   "source": [
    "My followers are much more engaged with my content than PacktPub's. It seems that I have more influence. Is that right? \n"
   ]
  },
  {
   "cell_type": "markdown",
   "metadata": {
    "slideshow": {
     "slide_type": "slide"
    }
   },
   "source": [
    "## Clustering of Users/Followers "
   ]
  },
  {
   "cell_type": "markdown",
   "metadata": {
    "slideshow": {
     "slide_type": "slide"
    }
   },
   "source": [
    "Instead of using clustering coefficient to and component analysis, we will cluster users using [kmeans method](https://en.wikipedia.org/wiki/K-means_clustering). "
   ]
  },
  {
   "cell_type": "markdown",
   "metadata": {
    "slideshow": {
     "slide_type": "slide"
    }
   },
   "source": [
    "- each user's info can be represented as n-dimensional vector\n",
    "- kmeans algorithm can calculate the similarity among different users"
   ]
  },
  {
   "cell_type": "markdown",
   "metadata": {
    "slideshow": {
     "slide_type": "slide"
    }
   },
   "source": [
    "Next, we will cluster users using text of their description . \n",
    "In a large text corpus, some words will be very present (e.g. “the”, “a”, “is” in English) hence carrying very little meaningful information about the actual contents of the document. If we were to feed the direct count data directly to a classifier those very frequent terms would shadow the frequencies of rarer yet more interesting terms.\n",
    "In order to re-weight the count features into floating point values suitable for usage by a classifier it is very common to use the tf–idf transform.\n",
    "- Tf means term-frequency while tf–idf means term-frequency times inverse document-frequency"
   ]
  },
  {
   "cell_type": "markdown",
   "metadata": {
    "slideshow": {
     "slide_type": "slide"
    }
   },
   "source": [
    "### KMeans clustering "
   ]
  },
  {
   "cell_type": "code",
   "execution_count": null,
   "metadata": {
    "collapsed": true,
    "slideshow": {
     "slide_type": "slide"
    }
   },
   "outputs": [],
   "source": [
    "import pandas as pd\n",
    "price=pd.read_csv(\"users/\"+\"stock.csv\",header=None)\n",
    "price.head() "
   ]
  },
  {
   "cell_type": "code",
   "execution_count": null,
   "metadata": {
    "collapsed": true,
    "slideshow": {
     "slide_type": "slide"
    }
   },
   "outputs": [],
   "source": [
    "from sklearn.cluster import KMeans\n",
    "\n",
    "kk = KMeans(n_clusters=4, init='k-means++', n_init=10, max_iter=100000, tol=0.00001,\n",
    "                    random_state=100, n_jobs=-1, algorithm='full')\n",
    "compu_kmeans = kk.fit(price)\n",
    "kernel=compu_kmeans.cluster_centers_"
   ]
  },
  {
   "cell_type": "code",
   "execution_count": null,
   "metadata": {
    "collapsed": true,
    "slideshow": {
     "slide_type": "slide"
    }
   },
   "outputs": [],
   "source": [
    "kernel.shape"
   ]
  },
  {
   "cell_type": "markdown",
   "metadata": {
    "slideshow": {
     "slide_type": "slide"
    }
   },
   "source": [
    "With Kmeans clustering, we successfully cluster the pattern of stock price change into 4 clusters. But whether cluster number =4 is good enough? It is very subjective. We use the following standard in practice\n",
    "- "
   ]
  },
  {
   "cell_type": "code",
   "execution_count": null,
   "metadata": {
    "collapsed": true,
    "slideshow": {
     "slide_type": "slide"
    }
   },
   "outputs": [],
   "source": [
    "from sklearn.metrics import  silhouette_score\n",
    "import numpy as np\n",
    "single_score=[]\n",
    "max=5\n",
    "for i in range(max):\n",
    "    kk = KMeans(n_clusters=i + 2, init='k-means++', n_init=10, max_iter=100000, tol=0.00001,\n",
    "                random_state=100, n_jobs=-1, algorithm='full')\n",
    "    compu_kmeans = kk.fit(price)\n",
    "    y_predict = compu_kmeans.fit_predict(price)\n",
    "    single_score.append(silhouette_score(price, y_predict))\n",
    "print(np.argmax(single_score) + 2)"
   ]
  },
  {
   "cell_type": "markdown",
   "metadata": {
    "slideshow": {
     "slide_type": "slide"
    }
   },
   "source": [
    "### User clustering based on description "
   ]
  },
  {
   "cell_type": "code",
   "execution_count": 1,
   "metadata": {
    "collapsed": true,
    "slideshow": {
     "slide_type": "slide"
    }
   },
   "outputs": [],
   "source": [
    "from twitter_one.clustering import *"
   ]
  },
  {
   "cell_type": "code",
   "execution_count": 2,
   "metadata": {
    "collapsed": true,
    "slideshow": {
     "slide_type": "slide"
    }
   },
   "outputs": [],
   "source": [
    "filename=\"users/PacktPub\"+\"/followers.jsonl\""
   ]
  },
  {
   "cell_type": "code",
   "execution_count": 3,
   "metadata": {
    "slideshow": {
     "slide_type": "slide"
    }
   },
   "outputs": [
    {
     "name": "stdout",
     "output_type": "stream",
     "text": [
      "  (2, 7)\t0.766720453121\n",
      "  (2, 1)\t0.64198111091\n",
      "  (8, 4)\t1.0\n",
      "  (14, 5)\t0.631455733616\n",
      "  (14, 0)\t0.775411926967\n",
      "  (30, 7)\t0.601445062878\n",
      "  (30, 1)\t0.503594717013\n",
      "  (30, 2)\t0.620206576341\n",
      "  (35, 7)\t0.766720453121\n",
      "  (35, 1)\t0.64198111091\n",
      "  (38, 5)\t1.0\n",
      "  (44, 1)\t0.663536902595\n",
      "  (44, 5)\t0.748143555005\n",
      "  (45, 1)\t1.0\n",
      "  (47, 4)\t1.0\n",
      "  (48, 3)\t1.0\n",
      "  (69, 0)\t0.694807909474\n",
      "  (69, 6)\t0.719195362146\n",
      "  (75, 1)\t0.663536902595\n",
      "  (75, 5)\t0.748143555005\n",
      "  (79, 1)\t0.663536902595\n",
      "  (79, 5)\t0.748143555005\n",
      "  (81, 7)\t1.0\n",
      "  (82, 1)\t0.663536902595\n",
      "  (82, 5)\t0.748143555005\n",
      "  :\t:\n",
      "  (14923, 2)\t1.0\n",
      "  (14924, 3)\t1.0\n",
      "  (14930, 0)\t1.0\n",
      "  (14931, 1)\t0.611650410579\n",
      "  (14931, 4)\t0.791128166126\n",
      "  (14937, 1)\t1.0\n",
      "  (14942, 2)\t1.0\n",
      "  (14946, 7)\t1.0\n",
      "  (14950, 4)\t1.0\n",
      "  (14952, 4)\t0.724216497083\n",
      "  (14952, 2)\t0.689572668653\n",
      "  (14953, 2)\t1.0\n",
      "  (14955, 2)\t1.0\n",
      "  (14961, 1)\t1.0\n",
      "  (14970, 7)\t1.0\n",
      "  (14976, 2)\t0.651750288188\n",
      "  (14976, 6)\t0.75843362389\n",
      "  (14984, 5)\t1.0\n",
      "  (14990, 7)\t0.766720453121\n",
      "  (14990, 1)\t0.64198111091\n",
      "  (14992, 2)\t1.0\n",
      "  (14993, 5)\t1.0\n",
      "  (14994, 1)\t1.0\n",
      "  (14996, 0)\t1.0\n",
      "  (14997, 4)\t1.0\n",
      "---------- Cluster 0\n",
      "\n",
      "\n",
      "\n",
      "\n",
      "computação,tecnologia da informacao,Pop/Rock,Games e Séries\n",
      "#DFIR #NSM\n",
      "Just some guy\n",
      "Iktisat,Egitim,foreign trade,Sanat ve zenaat, ictetkik,http://t.co/FKsByVhp8l\n",
      "No luches para vivir, vive para luchar.\n",
      " Estudiante de Ingeniería Informática en la UAH.\n",
      "\n",
      "---------- Cluster 1\n",
      "Students of Software Engineering #MSP2016 #NodeJs #JavaScript #Programming #SEO #Developer #ict4d\n",
      "Java Developer at Britenet\n",
      "Software Developer and Microsoft MVP Visual Studio and Development Technologies from Bologna. Opinions are my own, not Microsoft's.\n",
      "Software developer, football (soccer) aficionado\n",
      "Software developer, Ringwinner, aspiring adventurer, thinker, experimenter, barrel rider, husband, dad, son, brother, friend, Luckwearer\n",
      "Dreamer - Designer - Developer - Trainer - Photography Lover\n",
      "Google Developer Group Sardegna, JavaUserGroupSardegna,  Spring ItUG, Spring AOP Author, Gopher, father of one girl and two boys.RedHatter. My Tweets Are My Own\n",
      "*@#$ Enthusiasm *Junior Android Developer $#@* *@#$ Android Nanodegree Student @Udacity $#@*\n",
      "Android Developer\n",
      "Student. Hobbyist game developer, graphics programmer. Likes hackathons and game jams. @wontorres dev account.\n",
      "---------- Cluster 2\n",
      "Full Stack Web Developer\n",
      "Presales Engineer @Infobip | Web Developer at home\n",
      "Freelance web developer and consultant. Looking to create new things.\n",
      "Docente / Investigador / Desarrollador de Tecnologías Móviles y Web\n",
      "#student, interested in enterprise web application development, trying to dig #java #world, #web #developer, influenced by #FOSS, #rotractor, #osm #mapper\n",
      "Freelance web-developer. Really likes trees.\n",
      "likes to be straight-froward, believes in god, emotional. Web development, Cars, bikes,Cooking (seldom) Passionate indian , a proud tamilian\n",
      "Am a programmer,  Web developer and love doing my job well,  proficient with Java development,  Android development.\n",
      "Web Developer in Training #6monthchallenge\n",
      "#100DaysOfCode\n",
      "PPCYOGI is India’s leading Digital Marketing Company based in Chandigarh, offering world class services in SEO, SEM, PPC, SMM, web development and Landing Page.\n",
      "---------- Cluster 3\n",
      "Coralogix helps software companies avoid getting lost in their log data by figuring out their production problems automatically\n",
      "I major in software engineering. Programming(JAVA, mostly), Spring fans,,Akka fans,,,Rxjava fans.\n",
      "software engineer 🤓\n",
      "@GluonHQ co-founder. Software architect, Java and Scala enthusiast.\n",
      "Evolving, challenging, designing,pushing,leading VR,AR MR,AI application,gaming,hardware, software,usage & technology & other disruption since 1975\n",
      "A Software Engineering/Java consultant and trainer. Curious and emotional engineer, lover of wisdom.\n",
      "Software Engineer @cisco bangalore\n",
      "Computerist: Java, Android, TDD, Kotlin, Software Development, Tabs v Spaces, etc.\n",
      "B. Sc., GrDip in chemistry and software engineering student at Université Laval in Quebec city #Music #Astronomy #Chemistry #Science\n",
      "Software (Java/JEE/Android) Consultant. Interested in creating software products (Start-Ups?). Hobby game developer and Star Trek fan.\n",
      "---------- Cluster 4\n",
      "Co-founder and President of WalkMe Inc. https://t.co/KIOBVkyIPj. Forever curious. Talk to me about UX, AI, and the intersection of the two!\n",
      "is a Designer & Art Director.\n",
      " Portfolio:  https://t.co/e8ijeZ30ck\n",
      "Behance: https://t.co/BcxzyWWz6l\n",
      "Instagram: https://t.co/cSS0SOAts5\n",
      "roma, 52, runner, left, https://t.co/i2etq2rlXV, beatles, ilsorpasso.\n",
      "Entusiasta Java que gosta muito de conhecer novos Frameworks e não vive sem uma boa música! https://t.co/ItizeGgh1L\n",
      "DevOps / Automation Engineer - Freelance\n",
      "\n",
      "https://t.co/5u3XVBaWb4\n",
      "IT/IS Professional | Dreamer | GM - IT @Vserv,@hellovmax ( https://t.co/SuqW1bTVuu )\n",
      "So eine Art Logcat. Von verbose bis error. Meistens debug. Android/LineageOS|Java|Minecraft|Fedora|Gitarre|Angeln|2001 https://t.co/56LMgwShsZ\n",
      ".NET #Developer (C#.NET and https://t.co/qKRmcNtLdU). Now I am developing any kind of #WindowsApplication and #WebApplication. #webdesigner #CSharpDeveloper\n",
      "Tecnología, fútbol y R&R. @OpiTrends https://t.co/jrWQJAN1sP\n",
      "Github: https://t.co/rCO7BZm6O6\n"
     ]
    }
   ],
   "source": [
    "cluster=userCluster(filename,5,with_idf=True)"
   ]
  },
  {
   "cell_type": "code",
   "execution_count": 4,
   "metadata": {
    "collapsed": true,
    "slideshow": {
     "slide_type": "slide"
    }
   },
   "outputs": [],
   "source": [
    "import sys\n",
    "import json\n",
    "from collections import defaultdict\n",
    "from sklearn.feature_extraction.text import TfidfVectorizer\n",
    "from sklearn.cluster import KMeans\n"
   ]
  },
  {
   "cell_type": "code",
   "execution_count": 5,
   "metadata": {
    "collapsed": true,
    "slideshow": {
     "slide_type": "slide"
    }
   },
   "outputs": [],
   "source": [
    "corpus = [\n",
    "...     'This is the first document.',\n",
    "...     'This is the second second document.',\n",
    "...     'And the third one.',\n",
    "...     'Is this the first document?',\n",
    "... ]"
   ]
  },
  {
   "cell_type": "code",
   "execution_count": 7,
   "metadata": {
    "slideshow": {
     "slide_type": "slide"
    }
   },
   "outputs": [
    {
     "data": {
      "text/plain": [
       "['This is the first document.',\n",
       " 'This is the second second document.',\n",
       " 'And the third one.',\n",
       " 'Is this the first document?']"
      ]
     },
     "execution_count": 7,
     "metadata": {},
     "output_type": "execute_result"
    }
   ],
   "source": [
    "corpus"
   ]
  },
  {
   "cell_type": "code",
   "execution_count": 27,
   "metadata": {
    "collapsed": true
   },
   "outputs": [],
   "source": [
    "vectorizer = TfidfVectorizer(max_df=0.8,min_df=1,max_features=4,stop_words='english',ngram_range=(1, 1),use_idf=False)\n",
    "X = vectorizer.fit_transform(corpus)"
   ]
  },
  {
   "cell_type": "code",
   "execution_count": 29,
   "metadata": {},
   "outputs": [
    {
     "data": {
      "text/plain": [
       "(4, 2)"
      ]
     },
     "execution_count": 29,
     "metadata": {},
     "output_type": "execute_result"
    }
   ],
   "source": [
    "X.shape"
   ]
  },
  {
   "cell_type": "code",
   "execution_count": 30,
   "metadata": {},
   "outputs": [
    {
     "data": {
      "text/plain": [
       "0.0"
      ]
     },
     "execution_count": 30,
     "metadata": {},
     "output_type": "execute_result"
    }
   ],
   "source": [
    "X[0,1]"
   ]
  },
  {
   "cell_type": "code",
   "execution_count": 31,
   "metadata": {},
   "outputs": [
    {
     "data": {
      "text/plain": [
       "0.0"
      ]
     },
     "execution_count": 31,
     "metadata": {},
     "output_type": "execute_result"
    }
   ],
   "source": [
    "X[2,0]"
   ]
  },
  {
   "cell_type": "code",
   "execution_count": 32,
   "metadata": {},
   "outputs": [
    {
     "data": {
      "text/plain": [
       "KMeans(algorithm='auto', copy_x=True, init='k-means++', max_iter=300,\n",
       "    n_clusters=2, n_init=10, n_jobs=1, precompute_distances='auto',\n",
       "    random_state=None, tol=0.0001, verbose=0)"
      ]
     },
     "execution_count": 32,
     "metadata": {},
     "output_type": "execute_result"
    }
   ],
   "source": [
    "km = KMeans(n_clusters=2)\n",
    "km.fit(X)"
   ]
  },
  {
   "cell_type": "code",
   "execution_count": 33,
   "metadata": {},
   "outputs": [
    {
     "data": {
      "text/plain": [
       "array([0, 1, 1, 0], dtype=int32)"
      ]
     },
     "execution_count": 33,
     "metadata": {},
     "output_type": "execute_result"
    }
   ],
   "source": [
    "km.labels_"
   ]
  },
  {
   "cell_type": "code",
   "execution_count": null,
   "metadata": {
    "collapsed": true
   },
   "outputs": [],
   "source": []
  }
 ],
 "metadata": {
  "celltoolbar": "Slideshow",
  "hide_input": false,
  "kernelspec": {
   "display_name": "Python 3",
   "language": "python",
   "name": "python3"
  },
  "language_info": {
   "codemirror_mode": {
    "name": "ipython",
    "version": 3
   },
   "file_extension": ".py",
   "mimetype": "text/x-python",
   "name": "python",
   "nbconvert_exporter": "python",
   "pygments_lexer": "ipython3",
   "version": "3.5.2"
  },
  "latex_envs": {
   "bibliofile": "biblio.bib",
   "cite_by": "apalike",
   "current_citInitial": 1,
   "eqLabelWithNumbers": true,
   "eqNumInitial": 0
  }
 },
 "nbformat": 4,
 "nbformat_minor": 1
}
